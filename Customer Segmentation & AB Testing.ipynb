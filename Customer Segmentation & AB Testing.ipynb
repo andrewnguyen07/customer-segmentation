{
 "cells": [
  {
   "cell_type": "code",
   "execution_count": 1,
   "metadata": {},
   "outputs": [],
   "source": [
    "import pandas as pd\n",
    "import matplotlib.pyplot as plt\n",
    "import numpy as np\n",
    "import seaborn as sns"
   ]
  },
  {
   "cell_type": "code",
   "execution_count": 2,
   "metadata": {},
   "outputs": [
    {
     "name": "stderr",
     "output_type": "stream",
     "text": [
      "/opt/miniconda3/lib/python3.7/site-packages/IPython/core/interactiveshell.py:3063: DtypeWarning: Columns (3) have mixed types.Specify dtype option on import or set low_memory=False.\n",
      "  interactivity=interactivity, compiler=compiler, result=result)\n"
     ]
    }
   ],
   "source": [
    "df_raw = pd.read_csv(\"google-analytics.csv\")"
   ]
  },
  {
   "cell_type": "code",
   "execution_count": 3,
   "metadata": {},
   "outputs": [
    {
     "data": {
      "text/html": [
       "<div>\n",
       "<style scoped>\n",
       "    .dataframe tbody tr th:only-of-type {\n",
       "        vertical-align: middle;\n",
       "    }\n",
       "\n",
       "    .dataframe tbody tr th {\n",
       "        vertical-align: top;\n",
       "    }\n",
       "\n",
       "    .dataframe thead th {\n",
       "        text-align: right;\n",
       "    }\n",
       "</style>\n",
       "<table border=\"1\" class=\"dataframe\">\n",
       "  <thead>\n",
       "    <tr style=\"text-align: right;\">\n",
       "      <th></th>\n",
       "      <th>channelGrouping</th>\n",
       "      <th>date</th>\n",
       "      <th>device</th>\n",
       "      <th>fullVisitorId</th>\n",
       "      <th>geoNetwork</th>\n",
       "      <th>sessionId</th>\n",
       "      <th>socialEngagementType</th>\n",
       "      <th>totals</th>\n",
       "      <th>trafficSource</th>\n",
       "      <th>visitId</th>\n",
       "      <th>visitNumber</th>\n",
       "      <th>visitStartTime</th>\n",
       "    </tr>\n",
       "  </thead>\n",
       "  <tbody>\n",
       "    <tr>\n",
       "      <th>0</th>\n",
       "      <td>Organic Search</td>\n",
       "      <td>20160902</td>\n",
       "      <td>{\"browser\": \"Chrome\", \"browserVersion\": \"not a...</td>\n",
       "      <td>1131660440785968503</td>\n",
       "      <td>{\"continent\": \"Asia\", \"subContinent\": \"Western...</td>\n",
       "      <td>1131660440785968503_1472830385</td>\n",
       "      <td>Not Socially Engaged</td>\n",
       "      <td>{\"visits\": \"1\", \"hits\": \"1\", \"pageviews\": \"1\",...</td>\n",
       "      <td>{\"campaign\": \"(not set)\", \"source\": \"google\", ...</td>\n",
       "      <td>1472830385</td>\n",
       "      <td>1</td>\n",
       "      <td>1472830385</td>\n",
       "    </tr>\n",
       "    <tr>\n",
       "      <th>1</th>\n",
       "      <td>Organic Search</td>\n",
       "      <td>20160902</td>\n",
       "      <td>{\"browser\": \"Firefox\", \"browserVersion\": \"not ...</td>\n",
       "      <td>377306020877927890</td>\n",
       "      <td>{\"continent\": \"Oceania\", \"subContinent\": \"Aust...</td>\n",
       "      <td>377306020877927890_1472880147</td>\n",
       "      <td>Not Socially Engaged</td>\n",
       "      <td>{\"visits\": \"1\", \"hits\": \"1\", \"pageviews\": \"1\",...</td>\n",
       "      <td>{\"campaign\": \"(not set)\", \"source\": \"google\", ...</td>\n",
       "      <td>1472880147</td>\n",
       "      <td>1</td>\n",
       "      <td>1472880147</td>\n",
       "    </tr>\n",
       "    <tr>\n",
       "      <th>2</th>\n",
       "      <td>Organic Search</td>\n",
       "      <td>20160902</td>\n",
       "      <td>{\"browser\": \"Chrome\", \"browserVersion\": \"not a...</td>\n",
       "      <td>3895546263509774583</td>\n",
       "      <td>{\"continent\": \"Europe\", \"subContinent\": \"South...</td>\n",
       "      <td>3895546263509774583_1472865386</td>\n",
       "      <td>Not Socially Engaged</td>\n",
       "      <td>{\"visits\": \"1\", \"hits\": \"1\", \"pageviews\": \"1\",...</td>\n",
       "      <td>{\"campaign\": \"(not set)\", \"source\": \"google\", ...</td>\n",
       "      <td>1472865386</td>\n",
       "      <td>1</td>\n",
       "      <td>1472865386</td>\n",
       "    </tr>\n",
       "    <tr>\n",
       "      <th>3</th>\n",
       "      <td>Organic Search</td>\n",
       "      <td>20160902</td>\n",
       "      <td>{\"browser\": \"UC Browser\", \"browserVersion\": \"n...</td>\n",
       "      <td>4763447161404445595</td>\n",
       "      <td>{\"continent\": \"Asia\", \"subContinent\": \"Southea...</td>\n",
       "      <td>4763447161404445595_1472881213</td>\n",
       "      <td>Not Socially Engaged</td>\n",
       "      <td>{\"visits\": \"1\", \"hits\": \"1\", \"pageviews\": \"1\",...</td>\n",
       "      <td>{\"campaign\": \"(not set)\", \"source\": \"google\", ...</td>\n",
       "      <td>1472881213</td>\n",
       "      <td>1</td>\n",
       "      <td>1472881213</td>\n",
       "    </tr>\n",
       "    <tr>\n",
       "      <th>4</th>\n",
       "      <td>Organic Search</td>\n",
       "      <td>20160902</td>\n",
       "      <td>{\"browser\": \"Chrome\", \"browserVersion\": \"not a...</td>\n",
       "      <td>27294437909732085</td>\n",
       "      <td>{\"continent\": \"Europe\", \"subContinent\": \"North...</td>\n",
       "      <td>27294437909732085_1472822600</td>\n",
       "      <td>Not Socially Engaged</td>\n",
       "      <td>{\"visits\": \"1\", \"hits\": \"1\", \"pageviews\": \"1\",...</td>\n",
       "      <td>{\"campaign\": \"(not set)\", \"source\": \"google\", ...</td>\n",
       "      <td>1472822600</td>\n",
       "      <td>2</td>\n",
       "      <td>1472822600</td>\n",
       "    </tr>\n",
       "  </tbody>\n",
       "</table>\n",
       "</div>"
      ],
      "text/plain": [
       "  channelGrouping      date  \\\n",
       "0  Organic Search  20160902   \n",
       "1  Organic Search  20160902   \n",
       "2  Organic Search  20160902   \n",
       "3  Organic Search  20160902   \n",
       "4  Organic Search  20160902   \n",
       "\n",
       "                                              device        fullVisitorId  \\\n",
       "0  {\"browser\": \"Chrome\", \"browserVersion\": \"not a...  1131660440785968503   \n",
       "1  {\"browser\": \"Firefox\", \"browserVersion\": \"not ...   377306020877927890   \n",
       "2  {\"browser\": \"Chrome\", \"browserVersion\": \"not a...  3895546263509774583   \n",
       "3  {\"browser\": \"UC Browser\", \"browserVersion\": \"n...  4763447161404445595   \n",
       "4  {\"browser\": \"Chrome\", \"browserVersion\": \"not a...    27294437909732085   \n",
       "\n",
       "                                          geoNetwork  \\\n",
       "0  {\"continent\": \"Asia\", \"subContinent\": \"Western...   \n",
       "1  {\"continent\": \"Oceania\", \"subContinent\": \"Aust...   \n",
       "2  {\"continent\": \"Europe\", \"subContinent\": \"South...   \n",
       "3  {\"continent\": \"Asia\", \"subContinent\": \"Southea...   \n",
       "4  {\"continent\": \"Europe\", \"subContinent\": \"North...   \n",
       "\n",
       "                        sessionId  socialEngagementType  \\\n",
       "0  1131660440785968503_1472830385  Not Socially Engaged   \n",
       "1   377306020877927890_1472880147  Not Socially Engaged   \n",
       "2  3895546263509774583_1472865386  Not Socially Engaged   \n",
       "3  4763447161404445595_1472881213  Not Socially Engaged   \n",
       "4    27294437909732085_1472822600  Not Socially Engaged   \n",
       "\n",
       "                                              totals  \\\n",
       "0  {\"visits\": \"1\", \"hits\": \"1\", \"pageviews\": \"1\",...   \n",
       "1  {\"visits\": \"1\", \"hits\": \"1\", \"pageviews\": \"1\",...   \n",
       "2  {\"visits\": \"1\", \"hits\": \"1\", \"pageviews\": \"1\",...   \n",
       "3  {\"visits\": \"1\", \"hits\": \"1\", \"pageviews\": \"1\",...   \n",
       "4  {\"visits\": \"1\", \"hits\": \"1\", \"pageviews\": \"1\",...   \n",
       "\n",
       "                                       trafficSource     visitId  visitNumber  \\\n",
       "0  {\"campaign\": \"(not set)\", \"source\": \"google\", ...  1472830385            1   \n",
       "1  {\"campaign\": \"(not set)\", \"source\": \"google\", ...  1472880147            1   \n",
       "2  {\"campaign\": \"(not set)\", \"source\": \"google\", ...  1472865386            1   \n",
       "3  {\"campaign\": \"(not set)\", \"source\": \"google\", ...  1472881213            1   \n",
       "4  {\"campaign\": \"(not set)\", \"source\": \"google\", ...  1472822600            2   \n",
       "\n",
       "   visitStartTime  \n",
       "0      1472830385  \n",
       "1      1472880147  \n",
       "2      1472865386  \n",
       "3      1472881213  \n",
       "4      1472822600  "
      ]
     },
     "execution_count": 3,
     "metadata": {},
     "output_type": "execute_result"
    }
   ],
   "source": [
    "df_raw.head()"
   ]
  },
  {
   "cell_type": "code",
   "execution_count": 4,
   "metadata": {},
   "outputs": [],
   "source": [
    "#1. Read CSV and Convert/Flatten JSON fields"
   ]
  },
  {
   "cell_type": "code",
   "execution_count": 5,
   "metadata": {},
   "outputs": [],
   "source": [
    "#There are a couple of columns in JSON format, which needs to be flattened\n",
    "\n",
    "import os\n",
    "import json\n",
    "from pandas import json_normalize\n",
    "\n",
    "def load_df(csv_path=\"google-analytics.csv\", nrows=None):\n",
    "    json_columns = ['device', 'geoNetwork', 'totals', 'trafficSource']\n",
    "    df = pd.read_csv(csv_path, \n",
    "                    converters={column: json.loads for column in json_columns},\n",
    "                    dtype={'fullVisitorID':'str'},\n",
    "                    nrows=nrows)\n",
    "    for column in json_columns:\n",
    "        column_converted = json_normalize(df[column])\n",
    "        column_converted.columns = [f\"{column}_{subcolumn}\" for subcolumn in column_converted.columns]\n",
    "        df = df.drop(column, axis=1).merge(column_converted, right_index=True, left_index=True)\n",
    "    return df"
   ]
  },
  {
   "cell_type": "code",
   "execution_count": 6,
   "metadata": {},
   "outputs": [
    {
     "name": "stderr",
     "output_type": "stream",
     "text": [
      "/opt/miniconda3/lib/python3.7/site-packages/IPython/core/interactiveshell.py:3254: DtypeWarning: Columns (3) have mixed types.Specify dtype option on import or set low_memory=False.\n",
      "  if (await self.run_code(code, result,  async_=asy)):\n"
     ]
    }
   ],
   "source": [
    "df = load_df()"
   ]
  },
  {
   "cell_type": "code",
   "execution_count": 7,
   "metadata": {},
   "outputs": [
    {
     "data": {
      "text/html": [
       "<div>\n",
       "<style scoped>\n",
       "    .dataframe tbody tr th:only-of-type {\n",
       "        vertical-align: middle;\n",
       "    }\n",
       "\n",
       "    .dataframe tbody tr th {\n",
       "        vertical-align: top;\n",
       "    }\n",
       "\n",
       "    .dataframe thead th {\n",
       "        text-align: right;\n",
       "    }\n",
       "</style>\n",
       "<table border=\"1\" class=\"dataframe\">\n",
       "  <thead>\n",
       "    <tr style=\"text-align: right;\">\n",
       "      <th></th>\n",
       "      <th>channelGrouping</th>\n",
       "      <th>date</th>\n",
       "      <th>fullVisitorId</th>\n",
       "      <th>sessionId</th>\n",
       "      <th>socialEngagementType</th>\n",
       "      <th>visitId</th>\n",
       "      <th>visitNumber</th>\n",
       "      <th>visitStartTime</th>\n",
       "      <th>device_browser</th>\n",
       "      <th>device_browserVersion</th>\n",
       "      <th>...</th>\n",
       "      <th>trafficSource_adwordsClickInfo.criteriaParameters</th>\n",
       "      <th>trafficSource_isTrueDirect</th>\n",
       "      <th>trafficSource_referralPath</th>\n",
       "      <th>trafficSource_adwordsClickInfo.page</th>\n",
       "      <th>trafficSource_adwordsClickInfo.slot</th>\n",
       "      <th>trafficSource_adwordsClickInfo.gclId</th>\n",
       "      <th>trafficSource_adwordsClickInfo.adNetworkType</th>\n",
       "      <th>trafficSource_adwordsClickInfo.isVideoAd</th>\n",
       "      <th>trafficSource_adContent</th>\n",
       "      <th>trafficSource_campaignCode</th>\n",
       "    </tr>\n",
       "  </thead>\n",
       "  <tbody>\n",
       "    <tr>\n",
       "      <th>0</th>\n",
       "      <td>Organic Search</td>\n",
       "      <td>20160902</td>\n",
       "      <td>1131660440785968503</td>\n",
       "      <td>1131660440785968503_1472830385</td>\n",
       "      <td>Not Socially Engaged</td>\n",
       "      <td>1472830385</td>\n",
       "      <td>1</td>\n",
       "      <td>1472830385</td>\n",
       "      <td>Chrome</td>\n",
       "      <td>not available in demo dataset</td>\n",
       "      <td>...</td>\n",
       "      <td>not available in demo dataset</td>\n",
       "      <td>NaN</td>\n",
       "      <td>NaN</td>\n",
       "      <td>NaN</td>\n",
       "      <td>NaN</td>\n",
       "      <td>NaN</td>\n",
       "      <td>NaN</td>\n",
       "      <td>NaN</td>\n",
       "      <td>NaN</td>\n",
       "      <td>NaN</td>\n",
       "    </tr>\n",
       "    <tr>\n",
       "      <th>1</th>\n",
       "      <td>Organic Search</td>\n",
       "      <td>20160902</td>\n",
       "      <td>377306020877927890</td>\n",
       "      <td>377306020877927890_1472880147</td>\n",
       "      <td>Not Socially Engaged</td>\n",
       "      <td>1472880147</td>\n",
       "      <td>1</td>\n",
       "      <td>1472880147</td>\n",
       "      <td>Firefox</td>\n",
       "      <td>not available in demo dataset</td>\n",
       "      <td>...</td>\n",
       "      <td>not available in demo dataset</td>\n",
       "      <td>NaN</td>\n",
       "      <td>NaN</td>\n",
       "      <td>NaN</td>\n",
       "      <td>NaN</td>\n",
       "      <td>NaN</td>\n",
       "      <td>NaN</td>\n",
       "      <td>NaN</td>\n",
       "      <td>NaN</td>\n",
       "      <td>NaN</td>\n",
       "    </tr>\n",
       "    <tr>\n",
       "      <th>2</th>\n",
       "      <td>Organic Search</td>\n",
       "      <td>20160902</td>\n",
       "      <td>3895546263509774583</td>\n",
       "      <td>3895546263509774583_1472865386</td>\n",
       "      <td>Not Socially Engaged</td>\n",
       "      <td>1472865386</td>\n",
       "      <td>1</td>\n",
       "      <td>1472865386</td>\n",
       "      <td>Chrome</td>\n",
       "      <td>not available in demo dataset</td>\n",
       "      <td>...</td>\n",
       "      <td>not available in demo dataset</td>\n",
       "      <td>NaN</td>\n",
       "      <td>NaN</td>\n",
       "      <td>NaN</td>\n",
       "      <td>NaN</td>\n",
       "      <td>NaN</td>\n",
       "      <td>NaN</td>\n",
       "      <td>NaN</td>\n",
       "      <td>NaN</td>\n",
       "      <td>NaN</td>\n",
       "    </tr>\n",
       "    <tr>\n",
       "      <th>3</th>\n",
       "      <td>Organic Search</td>\n",
       "      <td>20160902</td>\n",
       "      <td>4763447161404445595</td>\n",
       "      <td>4763447161404445595_1472881213</td>\n",
       "      <td>Not Socially Engaged</td>\n",
       "      <td>1472881213</td>\n",
       "      <td>1</td>\n",
       "      <td>1472881213</td>\n",
       "      <td>UC Browser</td>\n",
       "      <td>not available in demo dataset</td>\n",
       "      <td>...</td>\n",
       "      <td>not available in demo dataset</td>\n",
       "      <td>NaN</td>\n",
       "      <td>NaN</td>\n",
       "      <td>NaN</td>\n",
       "      <td>NaN</td>\n",
       "      <td>NaN</td>\n",
       "      <td>NaN</td>\n",
       "      <td>NaN</td>\n",
       "      <td>NaN</td>\n",
       "      <td>NaN</td>\n",
       "    </tr>\n",
       "    <tr>\n",
       "      <th>4</th>\n",
       "      <td>Organic Search</td>\n",
       "      <td>20160902</td>\n",
       "      <td>27294437909732085</td>\n",
       "      <td>27294437909732085_1472822600</td>\n",
       "      <td>Not Socially Engaged</td>\n",
       "      <td>1472822600</td>\n",
       "      <td>2</td>\n",
       "      <td>1472822600</td>\n",
       "      <td>Chrome</td>\n",
       "      <td>not available in demo dataset</td>\n",
       "      <td>...</td>\n",
       "      <td>not available in demo dataset</td>\n",
       "      <td>True</td>\n",
       "      <td>NaN</td>\n",
       "      <td>NaN</td>\n",
       "      <td>NaN</td>\n",
       "      <td>NaN</td>\n",
       "      <td>NaN</td>\n",
       "      <td>NaN</td>\n",
       "      <td>NaN</td>\n",
       "      <td>NaN</td>\n",
       "    </tr>\n",
       "  </tbody>\n",
       "</table>\n",
       "<p>5 rows × 55 columns</p>\n",
       "</div>"
      ],
      "text/plain": [
       "  channelGrouping      date        fullVisitorId  \\\n",
       "0  Organic Search  20160902  1131660440785968503   \n",
       "1  Organic Search  20160902   377306020877927890   \n",
       "2  Organic Search  20160902  3895546263509774583   \n",
       "3  Organic Search  20160902  4763447161404445595   \n",
       "4  Organic Search  20160902    27294437909732085   \n",
       "\n",
       "                        sessionId  socialEngagementType     visitId  \\\n",
       "0  1131660440785968503_1472830385  Not Socially Engaged  1472830385   \n",
       "1   377306020877927890_1472880147  Not Socially Engaged  1472880147   \n",
       "2  3895546263509774583_1472865386  Not Socially Engaged  1472865386   \n",
       "3  4763447161404445595_1472881213  Not Socially Engaged  1472881213   \n",
       "4    27294437909732085_1472822600  Not Socially Engaged  1472822600   \n",
       "\n",
       "   visitNumber  visitStartTime device_browser          device_browserVersion  \\\n",
       "0            1      1472830385         Chrome  not available in demo dataset   \n",
       "1            1      1472880147        Firefox  not available in demo dataset   \n",
       "2            1      1472865386         Chrome  not available in demo dataset   \n",
       "3            1      1472881213     UC Browser  not available in demo dataset   \n",
       "4            2      1472822600         Chrome  not available in demo dataset   \n",
       "\n",
       "   ... trafficSource_adwordsClickInfo.criteriaParameters  \\\n",
       "0  ...                     not available in demo dataset   \n",
       "1  ...                     not available in demo dataset   \n",
       "2  ...                     not available in demo dataset   \n",
       "3  ...                     not available in demo dataset   \n",
       "4  ...                     not available in demo dataset   \n",
       "\n",
       "  trafficSource_isTrueDirect trafficSource_referralPath  \\\n",
       "0                        NaN                        NaN   \n",
       "1                        NaN                        NaN   \n",
       "2                        NaN                        NaN   \n",
       "3                        NaN                        NaN   \n",
       "4                       True                        NaN   \n",
       "\n",
       "   trafficSource_adwordsClickInfo.page trafficSource_adwordsClickInfo.slot  \\\n",
       "0                                  NaN                                 NaN   \n",
       "1                                  NaN                                 NaN   \n",
       "2                                  NaN                                 NaN   \n",
       "3                                  NaN                                 NaN   \n",
       "4                                  NaN                                 NaN   \n",
       "\n",
       "  trafficSource_adwordsClickInfo.gclId  \\\n",
       "0                                  NaN   \n",
       "1                                  NaN   \n",
       "2                                  NaN   \n",
       "3                                  NaN   \n",
       "4                                  NaN   \n",
       "\n",
       "  trafficSource_adwordsClickInfo.adNetworkType  \\\n",
       "0                                          NaN   \n",
       "1                                          NaN   \n",
       "2                                          NaN   \n",
       "3                                          NaN   \n",
       "4                                          NaN   \n",
       "\n",
       "  trafficSource_adwordsClickInfo.isVideoAd trafficSource_adContent  \\\n",
       "0                                      NaN                     NaN   \n",
       "1                                      NaN                     NaN   \n",
       "2                                      NaN                     NaN   \n",
       "3                                      NaN                     NaN   \n",
       "4                                      NaN                     NaN   \n",
       "\n",
       "  trafficSource_campaignCode  \n",
       "0                        NaN  \n",
       "1                        NaN  \n",
       "2                        NaN  \n",
       "3                        NaN  \n",
       "4                        NaN  \n",
       "\n",
       "[5 rows x 55 columns]"
      ]
     },
     "execution_count": 7,
     "metadata": {},
     "output_type": "execute_result"
    }
   ],
   "source": [
    "df.head()"
   ]
  },
  {
   "cell_type": "code",
   "execution_count": 8,
   "metadata": {},
   "outputs": [],
   "source": [
    "#2. Explanatory Data Analysis (EDA)"
   ]
  },
  {
   "cell_type": "code",
   "execution_count": 9,
   "metadata": {},
   "outputs": [
    {
     "data": {
      "text/plain": [
       "(903653, 55)"
      ]
     },
     "execution_count": 9,
     "metadata": {},
     "output_type": "execute_result"
    }
   ],
   "source": [
    "df.shape"
   ]
  },
  {
   "cell_type": "code",
   "execution_count": 10,
   "metadata": {},
   "outputs": [
    {
     "data": {
      "text/plain": [
       "channelGrouping                                           0\n",
       "date                                                      0\n",
       "fullVisitorId                                             0\n",
       "sessionId                                                 0\n",
       "socialEngagementType                                      0\n",
       "visitId                                                   0\n",
       "visitNumber                                               0\n",
       "visitStartTime                                            0\n",
       "device_browser                                            0\n",
       "device_browserVersion                                     0\n",
       "device_browserSize                                        0\n",
       "device_operatingSystem                                    0\n",
       "device_operatingSystemVersion                             0\n",
       "device_isMobile                                           0\n",
       "device_mobileDeviceBranding                               0\n",
       "device_mobileDeviceModel                                  0\n",
       "device_mobileInputSelector                                0\n",
       "device_mobileDeviceInfo                                   0\n",
       "device_mobileDeviceMarketingName                          0\n",
       "device_flashVersion                                       0\n",
       "device_language                                           0\n",
       "device_screenColors                                       0\n",
       "device_screenResolution                                   0\n",
       "device_deviceCategory                                     0\n",
       "geoNetwork_continent                                      0\n",
       "geoNetwork_subContinent                                   0\n",
       "geoNetwork_country                                        0\n",
       "geoNetwork_region                                         0\n",
       "geoNetwork_metro                                          0\n",
       "geoNetwork_city                                           0\n",
       "geoNetwork_cityId                                         0\n",
       "geoNetwork_networkDomain                                  0\n",
       "geoNetwork_latitude                                       0\n",
       "geoNetwork_longitude                                      0\n",
       "geoNetwork_networkLocation                                0\n",
       "totals_visits                                             0\n",
       "totals_hits                                               0\n",
       "totals_pageviews                                        100\n",
       "totals_bounces                                       453023\n",
       "totals_newVisits                                     200593\n",
       "totals_transactionRevenue                            892138\n",
       "trafficSource_campaign                                    0\n",
       "trafficSource_source                                      0\n",
       "trafficSource_medium                                      0\n",
       "trafficSource_keyword                                502929\n",
       "trafficSource_adwordsClickInfo.criteriaParameters         0\n",
       "trafficSource_isTrueDirect                           629648\n",
       "trafficSource_referralPath                           572712\n",
       "trafficSource_adwordsClickInfo.page                  882193\n",
       "trafficSource_adwordsClickInfo.slot                  882193\n",
       "trafficSource_adwordsClickInfo.gclId                 882092\n",
       "trafficSource_adwordsClickInfo.adNetworkType         882193\n",
       "trafficSource_adwordsClickInfo.isVideoAd             882193\n",
       "trafficSource_adContent                              892707\n",
       "trafficSource_campaignCode                           903652\n",
       "dtype: int64"
      ]
     },
     "execution_count": 10,
     "metadata": {},
     "output_type": "execute_result"
    }
   ],
   "source": [
    "df.isna().sum()"
   ]
  },
  {
   "cell_type": "code",
   "execution_count": 11,
   "metadata": {},
   "outputs": [],
   "source": [
    "df = df.loc[:,['channelGrouping', 'date', 'fullVisitorId', 'sessionId', \n",
    "              'visitId', 'visitNumber', 'device_browser', 'device_operatingSystem', \n",
    "              'device_isMobile', 'geoNetwork_country', 'trafficSource_source',\n",
    "              'totals_visits', 'totals_hits', 'totals_pageviews', 'totals_bounces',\n",
    "              'totals_transactionRevenue']]"
   ]
  },
  {
   "cell_type": "code",
   "execution_count": 12,
   "metadata": {},
   "outputs": [],
   "source": [
    "df = df.fillna(value=0)"
   ]
  },
  {
   "cell_type": "code",
   "execution_count": 13,
   "metadata": {},
   "outputs": [
    {
     "data": {
      "text/html": [
       "<div>\n",
       "<style scoped>\n",
       "    .dataframe tbody tr th:only-of-type {\n",
       "        vertical-align: middle;\n",
       "    }\n",
       "\n",
       "    .dataframe tbody tr th {\n",
       "        vertical-align: top;\n",
       "    }\n",
       "\n",
       "    .dataframe thead th {\n",
       "        text-align: right;\n",
       "    }\n",
       "</style>\n",
       "<table border=\"1\" class=\"dataframe\">\n",
       "  <thead>\n",
       "    <tr style=\"text-align: right;\">\n",
       "      <th></th>\n",
       "      <th>channelGrouping</th>\n",
       "      <th>date</th>\n",
       "      <th>fullVisitorId</th>\n",
       "      <th>sessionId</th>\n",
       "      <th>visitId</th>\n",
       "      <th>visitNumber</th>\n",
       "      <th>device_browser</th>\n",
       "      <th>device_operatingSystem</th>\n",
       "      <th>device_isMobile</th>\n",
       "      <th>geoNetwork_country</th>\n",
       "      <th>trafficSource_source</th>\n",
       "      <th>totals_visits</th>\n",
       "      <th>totals_hits</th>\n",
       "      <th>totals_pageviews</th>\n",
       "      <th>totals_bounces</th>\n",
       "      <th>totals_transactionRevenue</th>\n",
       "    </tr>\n",
       "  </thead>\n",
       "  <tbody>\n",
       "    <tr>\n",
       "      <th>0</th>\n",
       "      <td>Organic Search</td>\n",
       "      <td>20160902</td>\n",
       "      <td>1131660440785968503</td>\n",
       "      <td>1131660440785968503_1472830385</td>\n",
       "      <td>1472830385</td>\n",
       "      <td>1</td>\n",
       "      <td>Chrome</td>\n",
       "      <td>Windows</td>\n",
       "      <td>False</td>\n",
       "      <td>Turkey</td>\n",
       "      <td>google</td>\n",
       "      <td>1</td>\n",
       "      <td>1</td>\n",
       "      <td>1</td>\n",
       "      <td>1</td>\n",
       "      <td>0</td>\n",
       "    </tr>\n",
       "    <tr>\n",
       "      <th>1</th>\n",
       "      <td>Organic Search</td>\n",
       "      <td>20160902</td>\n",
       "      <td>377306020877927890</td>\n",
       "      <td>377306020877927890_1472880147</td>\n",
       "      <td>1472880147</td>\n",
       "      <td>1</td>\n",
       "      <td>Firefox</td>\n",
       "      <td>Macintosh</td>\n",
       "      <td>False</td>\n",
       "      <td>Australia</td>\n",
       "      <td>google</td>\n",
       "      <td>1</td>\n",
       "      <td>1</td>\n",
       "      <td>1</td>\n",
       "      <td>1</td>\n",
       "      <td>0</td>\n",
       "    </tr>\n",
       "    <tr>\n",
       "      <th>2</th>\n",
       "      <td>Organic Search</td>\n",
       "      <td>20160902</td>\n",
       "      <td>3895546263509774583</td>\n",
       "      <td>3895546263509774583_1472865386</td>\n",
       "      <td>1472865386</td>\n",
       "      <td>1</td>\n",
       "      <td>Chrome</td>\n",
       "      <td>Windows</td>\n",
       "      <td>False</td>\n",
       "      <td>Spain</td>\n",
       "      <td>google</td>\n",
       "      <td>1</td>\n",
       "      <td>1</td>\n",
       "      <td>1</td>\n",
       "      <td>1</td>\n",
       "      <td>0</td>\n",
       "    </tr>\n",
       "    <tr>\n",
       "      <th>3</th>\n",
       "      <td>Organic Search</td>\n",
       "      <td>20160902</td>\n",
       "      <td>4763447161404445595</td>\n",
       "      <td>4763447161404445595_1472881213</td>\n",
       "      <td>1472881213</td>\n",
       "      <td>1</td>\n",
       "      <td>UC Browser</td>\n",
       "      <td>Linux</td>\n",
       "      <td>False</td>\n",
       "      <td>Indonesia</td>\n",
       "      <td>google</td>\n",
       "      <td>1</td>\n",
       "      <td>1</td>\n",
       "      <td>1</td>\n",
       "      <td>1</td>\n",
       "      <td>0</td>\n",
       "    </tr>\n",
       "    <tr>\n",
       "      <th>4</th>\n",
       "      <td>Organic Search</td>\n",
       "      <td>20160902</td>\n",
       "      <td>27294437909732085</td>\n",
       "      <td>27294437909732085_1472822600</td>\n",
       "      <td>1472822600</td>\n",
       "      <td>2</td>\n",
       "      <td>Chrome</td>\n",
       "      <td>Android</td>\n",
       "      <td>True</td>\n",
       "      <td>United Kingdom</td>\n",
       "      <td>google</td>\n",
       "      <td>1</td>\n",
       "      <td>1</td>\n",
       "      <td>1</td>\n",
       "      <td>1</td>\n",
       "      <td>0</td>\n",
       "    </tr>\n",
       "  </tbody>\n",
       "</table>\n",
       "</div>"
      ],
      "text/plain": [
       "  channelGrouping      date        fullVisitorId  \\\n",
       "0  Organic Search  20160902  1131660440785968503   \n",
       "1  Organic Search  20160902   377306020877927890   \n",
       "2  Organic Search  20160902  3895546263509774583   \n",
       "3  Organic Search  20160902  4763447161404445595   \n",
       "4  Organic Search  20160902    27294437909732085   \n",
       "\n",
       "                        sessionId     visitId  visitNumber device_browser  \\\n",
       "0  1131660440785968503_1472830385  1472830385            1         Chrome   \n",
       "1   377306020877927890_1472880147  1472880147            1        Firefox   \n",
       "2  3895546263509774583_1472865386  1472865386            1         Chrome   \n",
       "3  4763447161404445595_1472881213  1472881213            1     UC Browser   \n",
       "4    27294437909732085_1472822600  1472822600            2         Chrome   \n",
       "\n",
       "  device_operatingSystem  device_isMobile geoNetwork_country  \\\n",
       "0                Windows            False             Turkey   \n",
       "1              Macintosh            False          Australia   \n",
       "2                Windows            False              Spain   \n",
       "3                  Linux            False          Indonesia   \n",
       "4                Android             True     United Kingdom   \n",
       "\n",
       "  trafficSource_source totals_visits totals_hits totals_pageviews  \\\n",
       "0               google             1           1                1   \n",
       "1               google             1           1                1   \n",
       "2               google             1           1                1   \n",
       "3               google             1           1                1   \n",
       "4               google             1           1                1   \n",
       "\n",
       "  totals_bounces totals_transactionRevenue  \n",
       "0              1                         0  \n",
       "1              1                         0  \n",
       "2              1                         0  \n",
       "3              1                         0  \n",
       "4              1                         0  "
      ]
     },
     "execution_count": 13,
     "metadata": {},
     "output_type": "execute_result"
    }
   ],
   "source": [
    "df.head()"
   ]
  },
  {
   "cell_type": "code",
   "execution_count": 14,
   "metadata": {},
   "outputs": [],
   "source": [
    "for i in df.columns:\n",
    "    if df[i].dtype == object:\n",
    "        df[i] = df[i].astype(str)"
   ]
  },
  {
   "cell_type": "code",
   "execution_count": 15,
   "metadata": {},
   "outputs": [],
   "source": [
    "df.channelGrouping.unique()\n",
    "df.channelGrouping = df.channelGrouping.replace(\"(Other)\", \"Others\")"
   ]
  },
  {
   "cell_type": "code",
   "execution_count": 16,
   "metadata": {},
   "outputs": [],
   "source": [
    "df.device_isMobile.unique()\n",
    "df.device_isMobile = df.device_isMobile.astype(str)\n",
    "df.loc[df.device_isMobile == \"False\", \"device\"] = \"Desktop\"\n",
    "df.loc[df.device_isMobile == \"True\", \"device\"] = \"Mobile\""
   ]
  },
  {
   "cell_type": "code",
   "execution_count": 17,
   "metadata": {},
   "outputs": [],
   "source": [
    "df.geoNetwork_country.unique()\n",
    "df.geoNetwork_country = df.geoNetwork_country.replace(\"(not set)\", \"Others\")"
   ]
  },
  {
   "cell_type": "code",
   "execution_count": 18,
   "metadata": {},
   "outputs": [],
   "source": [
    "pd.set_option('mode.chained_assignment', None)\n",
    "\n",
    "df['traffic_source'] = df.trafficSource_source\n",
    "\n",
    "main_traffic_source = [\"google\",\"baidu\",\"bing\",\"yahoo\",\"facebook\",\"youtube\",\"duckduckgo\",\"quora\",\n",
    "                      \"reddit\",\"linkedin\",\"messenger\",\"pinterest\",\"yandex\",\"twitter\"]\n",
    "\n",
    "df.traffic_source[df.traffic_source.str.contains(\"google\")] = \"google\"\n",
    "df.traffic_source[df.traffic_source.str.contains(\"baidu\")] = \"baidu\"\n",
    "df.traffic_source[df.traffic_source.str.contains(\"bing\")] = \"bing\"\n",
    "df.traffic_source[df.traffic_source.str.contains(\"yahoo\")] = \"yahoo\"\n",
    "df.traffic_source[df.traffic_source.str.contains(\"facebook\")] = \"facebook\"\n",
    "df.traffic_source[df.traffic_source.str.contains(\"youtube\")] = \"youtube\"\n",
    "df.traffic_source[df.traffic_source.str.contains(\"duckduckgo\")] = \"duckduckgo\"\n",
    "df.traffic_source[df.traffic_source.str.contains(\"quora\")] = \"quora\"\n",
    "df.traffic_source[df.traffic_source.str.contains(\"reddit\")] = \"reddit\"\n",
    "df.traffic_source[df.traffic_source.str.contains(\"linkedin\")] = \"linkedin\"\n",
    "df.traffic_source[df.traffic_source.str.contains(\"lnkd\")] = \"linkedin\"\n",
    "df.traffic_source[df.traffic_source.str.contains(\"messenger\")] = \"messenger\"\n",
    "df.traffic_source[df.traffic_source.str.contains(\"pinterest\")] = \"pinterest\"\n",
    "df.traffic_source[df.traffic_source.str.contains(\"yandex\")] = \"yandex\"\n",
    "df.traffic_source[df.traffic_source.str.contains(\"twitter\")] = \"twitter\"\n",
    "df.traffic_source[~df.traffic_source.isin(main_traffic_source)] = \"Others\""
   ]
  },
  {
   "cell_type": "code",
   "execution_count": 19,
   "metadata": {},
   "outputs": [],
   "source": [
    "df['deviceBrowser'] = df.device_browser\n",
    "\n",
    "main_device_browser = [\"Chrome\",\"Safari\",\"Firefox\",\"Internet Explorer\",\"Edge\",\n",
    "                      \"Opera\",\"UC Browser\",\"YaBrowser\",\"Coc Coc\"]\n",
    "\n",
    "df.deviceBrowser[df.deviceBrowser.str.contains(\"Chrome\")] = \"Chrome\"\n",
    "df.deviceBrowser[df.deviceBrowser.str.contains(\"Safari\")] = \"Safari\"\n",
    "df.deviceBrowser[df.deviceBrowser.str.contains(\"Firefox\")] = \"Firefox\"\n",
    "df.deviceBrowser[df.deviceBrowser.str.contains(\"Internet Explorer\")] = \"Internet Explorer\"\n",
    "df.deviceBrowser[df.deviceBrowser.str.contains(\"Edge\")] = \"Edge\"\n",
    "df.deviceBrowser[df.deviceBrowser.str.contains(\"Opera\")] = \"Opera\"\n",
    "df.deviceBrowser[df.deviceBrowser.str.contains(\"UC Browser\")] = \"UC Browser\"\n",
    "df.deviceBrowser[df.deviceBrowser.str.contains(\"YaBrowser\")] = \"YaBrowser\"\n",
    "df.deviceBrowser[df.deviceBrowser.str.contains(\"Coc Coc\")] = \"Coc Coc\"\n",
    "df.deviceBrowser[~df.deviceBrowser.isin(main_device_browser)] = \"Others\""
   ]
  },
  {
   "cell_type": "code",
   "execution_count": 20,
   "metadata": {},
   "outputs": [],
   "source": [
    "df.device_operatingSystem.unique()\n",
    "df.device_operatingSystem = df.device_operatingSystem.replace(\"(not set)\", \"Others\")"
   ]
  },
  {
   "cell_type": "code",
   "execution_count": 21,
   "metadata": {},
   "outputs": [],
   "source": [
    "df.drop(columns=[\"device_isMobile\"], inplace=True)"
   ]
  },
  {
   "cell_type": "code",
   "execution_count": 22,
   "metadata": {},
   "outputs": [
    {
     "data": {
      "text/html": [
       "<div>\n",
       "<style scoped>\n",
       "    .dataframe tbody tr th:only-of-type {\n",
       "        vertical-align: middle;\n",
       "    }\n",
       "\n",
       "    .dataframe tbody tr th {\n",
       "        vertical-align: top;\n",
       "    }\n",
       "\n",
       "    .dataframe thead th {\n",
       "        text-align: right;\n",
       "    }\n",
       "</style>\n",
       "<table border=\"1\" class=\"dataframe\">\n",
       "  <thead>\n",
       "    <tr style=\"text-align: right;\">\n",
       "      <th></th>\n",
       "      <th>channelGrouping</th>\n",
       "      <th>date</th>\n",
       "      <th>fullVisitorId</th>\n",
       "      <th>sessionId</th>\n",
       "      <th>visitId</th>\n",
       "      <th>visitNumber</th>\n",
       "      <th>device_browser</th>\n",
       "      <th>device_operatingSystem</th>\n",
       "      <th>geoNetwork_country</th>\n",
       "      <th>trafficSource_source</th>\n",
       "      <th>totals_visits</th>\n",
       "      <th>totals_hits</th>\n",
       "      <th>totals_pageviews</th>\n",
       "      <th>totals_bounces</th>\n",
       "      <th>totals_transactionRevenue</th>\n",
       "      <th>device</th>\n",
       "      <th>traffic_source</th>\n",
       "      <th>deviceBrowser</th>\n",
       "    </tr>\n",
       "  </thead>\n",
       "  <tbody>\n",
       "    <tr>\n",
       "      <th>0</th>\n",
       "      <td>Organic Search</td>\n",
       "      <td>20160902</td>\n",
       "      <td>1131660440785968503</td>\n",
       "      <td>1131660440785968503_1472830385</td>\n",
       "      <td>1472830385</td>\n",
       "      <td>1</td>\n",
       "      <td>Chrome</td>\n",
       "      <td>Windows</td>\n",
       "      <td>Turkey</td>\n",
       "      <td>google</td>\n",
       "      <td>1</td>\n",
       "      <td>1</td>\n",
       "      <td>1</td>\n",
       "      <td>1</td>\n",
       "      <td>0</td>\n",
       "      <td>Desktop</td>\n",
       "      <td>google</td>\n",
       "      <td>Chrome</td>\n",
       "    </tr>\n",
       "    <tr>\n",
       "      <th>1</th>\n",
       "      <td>Organic Search</td>\n",
       "      <td>20160902</td>\n",
       "      <td>377306020877927890</td>\n",
       "      <td>377306020877927890_1472880147</td>\n",
       "      <td>1472880147</td>\n",
       "      <td>1</td>\n",
       "      <td>Firefox</td>\n",
       "      <td>Macintosh</td>\n",
       "      <td>Australia</td>\n",
       "      <td>google</td>\n",
       "      <td>1</td>\n",
       "      <td>1</td>\n",
       "      <td>1</td>\n",
       "      <td>1</td>\n",
       "      <td>0</td>\n",
       "      <td>Desktop</td>\n",
       "      <td>google</td>\n",
       "      <td>Firefox</td>\n",
       "    </tr>\n",
       "    <tr>\n",
       "      <th>2</th>\n",
       "      <td>Organic Search</td>\n",
       "      <td>20160902</td>\n",
       "      <td>3895546263509774583</td>\n",
       "      <td>3895546263509774583_1472865386</td>\n",
       "      <td>1472865386</td>\n",
       "      <td>1</td>\n",
       "      <td>Chrome</td>\n",
       "      <td>Windows</td>\n",
       "      <td>Spain</td>\n",
       "      <td>google</td>\n",
       "      <td>1</td>\n",
       "      <td>1</td>\n",
       "      <td>1</td>\n",
       "      <td>1</td>\n",
       "      <td>0</td>\n",
       "      <td>Desktop</td>\n",
       "      <td>google</td>\n",
       "      <td>Chrome</td>\n",
       "    </tr>\n",
       "    <tr>\n",
       "      <th>3</th>\n",
       "      <td>Organic Search</td>\n",
       "      <td>20160902</td>\n",
       "      <td>4763447161404445595</td>\n",
       "      <td>4763447161404445595_1472881213</td>\n",
       "      <td>1472881213</td>\n",
       "      <td>1</td>\n",
       "      <td>UC Browser</td>\n",
       "      <td>Linux</td>\n",
       "      <td>Indonesia</td>\n",
       "      <td>google</td>\n",
       "      <td>1</td>\n",
       "      <td>1</td>\n",
       "      <td>1</td>\n",
       "      <td>1</td>\n",
       "      <td>0</td>\n",
       "      <td>Desktop</td>\n",
       "      <td>google</td>\n",
       "      <td>UC Browser</td>\n",
       "    </tr>\n",
       "    <tr>\n",
       "      <th>4</th>\n",
       "      <td>Organic Search</td>\n",
       "      <td>20160902</td>\n",
       "      <td>27294437909732085</td>\n",
       "      <td>27294437909732085_1472822600</td>\n",
       "      <td>1472822600</td>\n",
       "      <td>2</td>\n",
       "      <td>Chrome</td>\n",
       "      <td>Android</td>\n",
       "      <td>United Kingdom</td>\n",
       "      <td>google</td>\n",
       "      <td>1</td>\n",
       "      <td>1</td>\n",
       "      <td>1</td>\n",
       "      <td>1</td>\n",
       "      <td>0</td>\n",
       "      <td>Mobile</td>\n",
       "      <td>google</td>\n",
       "      <td>Chrome</td>\n",
       "    </tr>\n",
       "  </tbody>\n",
       "</table>\n",
       "</div>"
      ],
      "text/plain": [
       "  channelGrouping      date        fullVisitorId  \\\n",
       "0  Organic Search  20160902  1131660440785968503   \n",
       "1  Organic Search  20160902   377306020877927890   \n",
       "2  Organic Search  20160902  3895546263509774583   \n",
       "3  Organic Search  20160902  4763447161404445595   \n",
       "4  Organic Search  20160902    27294437909732085   \n",
       "\n",
       "                        sessionId     visitId  visitNumber device_browser  \\\n",
       "0  1131660440785968503_1472830385  1472830385            1         Chrome   \n",
       "1   377306020877927890_1472880147  1472880147            1        Firefox   \n",
       "2  3895546263509774583_1472865386  1472865386            1         Chrome   \n",
       "3  4763447161404445595_1472881213  1472881213            1     UC Browser   \n",
       "4    27294437909732085_1472822600  1472822600            2         Chrome   \n",
       "\n",
       "  device_operatingSystem geoNetwork_country trafficSource_source  \\\n",
       "0                Windows             Turkey               google   \n",
       "1              Macintosh          Australia               google   \n",
       "2                Windows              Spain               google   \n",
       "3                  Linux          Indonesia               google   \n",
       "4                Android     United Kingdom               google   \n",
       "\n",
       "  totals_visits totals_hits totals_pageviews totals_bounces  \\\n",
       "0             1           1                1              1   \n",
       "1             1           1                1              1   \n",
       "2             1           1                1              1   \n",
       "3             1           1                1              1   \n",
       "4             1           1                1              1   \n",
       "\n",
       "  totals_transactionRevenue   device traffic_source deviceBrowser  \n",
       "0                         0  Desktop         google        Chrome  \n",
       "1                         0  Desktop         google       Firefox  \n",
       "2                         0  Desktop         google        Chrome  \n",
       "3                         0  Desktop         google    UC Browser  \n",
       "4                         0   Mobile         google        Chrome  "
      ]
     },
     "execution_count": 22,
     "metadata": {},
     "output_type": "execute_result"
    }
   ],
   "source": [
    "df.head()"
   ]
  },
  {
   "cell_type": "code",
   "execution_count": 23,
   "metadata": {},
   "outputs": [],
   "source": [
    "columns_to_numeric = ['totals_visits', 'totals_hits', 'totals_pageviews', 'totals_bounces', 'totals_transactionRevenue']\n",
    "\n",
    "for i in columns_to_numeric:\n",
    "    df[i] = pd.to_numeric(df[i])"
   ]
  },
  {
   "cell_type": "code",
   "execution_count": 24,
   "metadata": {},
   "outputs": [],
   "source": [
    "df_groupby = df.groupby(['fullVisitorId', 'channelGrouping', 'geoNetwork_country', 'traffic_source',\n",
    "                         'device', 'deviceBrowser', 'device_operatingSystem']).agg({\n",
    "                        'totals_hits':'sum', 'totals_pageviews':'sum', 'totals_bounces':'sum',\n",
    "                        'totals_transactionRevenue':'sum'}).reset_index()"
   ]
  },
  {
   "cell_type": "code",
   "execution_count": 25,
   "metadata": {},
   "outputs": [],
   "source": [
    "df_groupby = df_groupby.sort_values(by='totals_transactionRevenue', ascending=False).reset_index(drop=True)"
   ]
  },
  {
   "cell_type": "code",
   "execution_count": 26,
   "metadata": {},
   "outputs": [
    {
     "data": {
      "text/html": [
       "<div>\n",
       "<style scoped>\n",
       "    .dataframe tbody tr th:only-of-type {\n",
       "        vertical-align: middle;\n",
       "    }\n",
       "\n",
       "    .dataframe tbody tr th {\n",
       "        vertical-align: top;\n",
       "    }\n",
       "\n",
       "    .dataframe thead th {\n",
       "        text-align: right;\n",
       "    }\n",
       "</style>\n",
       "<table border=\"1\" class=\"dataframe\">\n",
       "  <thead>\n",
       "    <tr style=\"text-align: right;\">\n",
       "      <th></th>\n",
       "      <th>fullVisitorId</th>\n",
       "      <th>channelGrouping</th>\n",
       "      <th>geoNetwork_country</th>\n",
       "      <th>traffic_source</th>\n",
       "      <th>device</th>\n",
       "      <th>deviceBrowser</th>\n",
       "      <th>device_operatingSystem</th>\n",
       "      <th>totals_hits</th>\n",
       "      <th>totals_pageviews</th>\n",
       "      <th>totals_bounces</th>\n",
       "      <th>totals_transactionRevenue</th>\n",
       "    </tr>\n",
       "  </thead>\n",
       "  <tbody>\n",
       "    <tr>\n",
       "      <th>0</th>\n",
       "      <td>1957458976293878100</td>\n",
       "      <td>Display</td>\n",
       "      <td>United States</td>\n",
       "      <td>Others</td>\n",
       "      <td>Desktop</td>\n",
       "      <td>Firefox</td>\n",
       "      <td>Windows</td>\n",
       "      <td>2378</td>\n",
       "      <td>1998</td>\n",
       "      <td>4</td>\n",
       "      <td>59257930000</td>\n",
       "    </tr>\n",
       "    <tr>\n",
       "      <th>1</th>\n",
       "      <td>1957458976293878100</td>\n",
       "      <td>Direct</td>\n",
       "      <td>United States</td>\n",
       "      <td>Others</td>\n",
       "      <td>Desktop</td>\n",
       "      <td>Firefox</td>\n",
       "      <td>Windows</td>\n",
       "      <td>1370</td>\n",
       "      <td>1134</td>\n",
       "      <td>3</td>\n",
       "      <td>17855500000</td>\n",
       "    </tr>\n",
       "    <tr>\n",
       "      <th>2</th>\n",
       "      <td>5632276788326171571</td>\n",
       "      <td>Direct</td>\n",
       "      <td>United States</td>\n",
       "      <td>Others</td>\n",
       "      <td>Desktop</td>\n",
       "      <td>Chrome</td>\n",
       "      <td>Windows</td>\n",
       "      <td>153</td>\n",
       "      <td>105</td>\n",
       "      <td>2</td>\n",
       "      <td>16023750000</td>\n",
       "    </tr>\n",
       "    <tr>\n",
       "      <th>3</th>\n",
       "      <td>9417857471295131045</td>\n",
       "      <td>Direct</td>\n",
       "      <td>United States</td>\n",
       "      <td>Others</td>\n",
       "      <td>Desktop</td>\n",
       "      <td>Chrome</td>\n",
       "      <td>Windows</td>\n",
       "      <td>696</td>\n",
       "      <td>466</td>\n",
       "      <td>0</td>\n",
       "      <td>15170120000</td>\n",
       "    </tr>\n",
       "    <tr>\n",
       "      <th>4</th>\n",
       "      <td>4471415710206918415</td>\n",
       "      <td>Referral</td>\n",
       "      <td>United States</td>\n",
       "      <td>google</td>\n",
       "      <td>Desktop</td>\n",
       "      <td>Chrome</td>\n",
       "      <td>Macintosh</td>\n",
       "      <td>238</td>\n",
       "      <td>194</td>\n",
       "      <td>6</td>\n",
       "      <td>11211100000</td>\n",
       "    </tr>\n",
       "  </tbody>\n",
       "</table>\n",
       "</div>"
      ],
      "text/plain": [
       "         fullVisitorId channelGrouping geoNetwork_country traffic_source  \\\n",
       "0  1957458976293878100         Display      United States         Others   \n",
       "1  1957458976293878100          Direct      United States         Others   \n",
       "2  5632276788326171571          Direct      United States         Others   \n",
       "3  9417857471295131045          Direct      United States         Others   \n",
       "4  4471415710206918415        Referral      United States         google   \n",
       "\n",
       "    device deviceBrowser device_operatingSystem  totals_hits  \\\n",
       "0  Desktop       Firefox                Windows         2378   \n",
       "1  Desktop       Firefox                Windows         1370   \n",
       "2  Desktop        Chrome                Windows          153   \n",
       "3  Desktop        Chrome                Windows          696   \n",
       "4  Desktop        Chrome              Macintosh          238   \n",
       "\n",
       "   totals_pageviews  totals_bounces  totals_transactionRevenue  \n",
       "0              1998               4                59257930000  \n",
       "1              1134               3                17855500000  \n",
       "2               105               2                16023750000  \n",
       "3               466               0                15170120000  \n",
       "4               194               6                11211100000  "
      ]
     },
     "execution_count": 26,
     "metadata": {},
     "output_type": "execute_result"
    }
   ],
   "source": [
    "df_groupby.head()"
   ]
  },
  {
   "cell_type": "code",
   "execution_count": 27,
   "metadata": {},
   "outputs": [],
   "source": [
    "df_groupby.totals_transactionRevenue = df_groupby.totals_transactionRevenue.apply(lambda x: round(x/100000,-1))"
   ]
  },
  {
   "cell_type": "code",
   "execution_count": 28,
   "metadata": {},
   "outputs": [
    {
     "data": {
      "text/html": [
       "<div>\n",
       "<style scoped>\n",
       "    .dataframe tbody tr th:only-of-type {\n",
       "        vertical-align: middle;\n",
       "    }\n",
       "\n",
       "    .dataframe tbody tr th {\n",
       "        vertical-align: top;\n",
       "    }\n",
       "\n",
       "    .dataframe thead th {\n",
       "        text-align: right;\n",
       "    }\n",
       "</style>\n",
       "<table border=\"1\" class=\"dataframe\">\n",
       "  <thead>\n",
       "    <tr style=\"text-align: right;\">\n",
       "      <th></th>\n",
       "      <th>totals_hits</th>\n",
       "      <th>totals_pageviews</th>\n",
       "      <th>totals_bounces</th>\n",
       "      <th>totals_transactionRevenue</th>\n",
       "    </tr>\n",
       "  </thead>\n",
       "  <tbody>\n",
       "    <tr>\n",
       "      <th>count</th>\n",
       "      <td>740917.000000</td>\n",
       "      <td>740917.000000</td>\n",
       "      <td>740917.000000</td>\n",
       "      <td>740917.000000</td>\n",
       "    </tr>\n",
       "    <tr>\n",
       "      <th>mean</th>\n",
       "      <td>5.606127</td>\n",
       "      <td>4.694812</td>\n",
       "      <td>0.608206</td>\n",
       "      <td>20.787227</td>\n",
       "    </tr>\n",
       "    <tr>\n",
       "      <th>std</th>\n",
       "      <td>16.399311</td>\n",
       "      <td>12.439451</td>\n",
       "      <td>0.845341</td>\n",
       "      <td>911.597635</td>\n",
       "    </tr>\n",
       "    <tr>\n",
       "      <th>min</th>\n",
       "      <td>1.000000</td>\n",
       "      <td>0.000000</td>\n",
       "      <td>0.000000</td>\n",
       "      <td>0.000000</td>\n",
       "    </tr>\n",
       "    <tr>\n",
       "      <th>25%</th>\n",
       "      <td>1.000000</td>\n",
       "      <td>1.000000</td>\n",
       "      <td>0.000000</td>\n",
       "      <td>0.000000</td>\n",
       "    </tr>\n",
       "    <tr>\n",
       "      <th>50%</th>\n",
       "      <td>2.000000</td>\n",
       "      <td>2.000000</td>\n",
       "      <td>1.000000</td>\n",
       "      <td>0.000000</td>\n",
       "    </tr>\n",
       "    <tr>\n",
       "      <th>75%</th>\n",
       "      <td>4.000000</td>\n",
       "      <td>4.000000</td>\n",
       "      <td>1.000000</td>\n",
       "      <td>0.000000</td>\n",
       "    </tr>\n",
       "    <tr>\n",
       "      <th>max</th>\n",
       "      <td>2912.000000</td>\n",
       "      <td>2318.000000</td>\n",
       "      <td>123.000000</td>\n",
       "      <td>592580.000000</td>\n",
       "    </tr>\n",
       "  </tbody>\n",
       "</table>\n",
       "</div>"
      ],
      "text/plain": [
       "         totals_hits  totals_pageviews  totals_bounces  \\\n",
       "count  740917.000000     740917.000000   740917.000000   \n",
       "mean        5.606127          4.694812        0.608206   \n",
       "std        16.399311         12.439451        0.845341   \n",
       "min         1.000000          0.000000        0.000000   \n",
       "25%         1.000000          1.000000        0.000000   \n",
       "50%         2.000000          2.000000        1.000000   \n",
       "75%         4.000000          4.000000        1.000000   \n",
       "max      2912.000000       2318.000000      123.000000   \n",
       "\n",
       "       totals_transactionRevenue  \n",
       "count              740917.000000  \n",
       "mean                   20.787227  \n",
       "std                   911.597635  \n",
       "min                     0.000000  \n",
       "25%                     0.000000  \n",
       "50%                     0.000000  \n",
       "75%                     0.000000  \n",
       "max                592580.000000  "
      ]
     },
     "execution_count": 28,
     "metadata": {},
     "output_type": "execute_result"
    }
   ],
   "source": [
    "df_groupby.describe()"
   ]
  },
  {
   "cell_type": "code",
   "execution_count": 29,
   "metadata": {},
   "outputs": [
    {
     "data": {
      "text/plain": [
       "<matplotlib.axes._subplots.AxesSubplot at 0x11936e690>"
      ]
     },
     "execution_count": 29,
     "metadata": {},
     "output_type": "execute_result"
    },
    {
     "data": {
      "image/png": "[encoded data removed]",
      "text/plain": [
       "<Figure size 432x288 with 1 Axes>"
      ]
     },
     "metadata": {
      "needs_background": "light"
     },
     "output_type": "display_data"
    }
   ],
   "source": [
    "sns.boxplot(df_groupby.totals_transactionRevenue)"
   ]
  },
  {
   "cell_type": "code",
   "execution_count": 30,
   "metadata": {},
   "outputs": [],
   "source": [
    "df_groupby = df_groupby.loc[df_groupby.totals_transactionRevenue < 200000]"
   ]
  },
  {
   "cell_type": "code",
   "execution_count": 31,
   "metadata": {},
   "outputs": [
    {
     "data": {
      "text/plain": [
       "<matplotlib.axes._subplots.AxesSubplot at 0x1b3d451d50>"
      ]
     },
     "execution_count": 31,
     "metadata": {},
     "output_type": "execute_result"
    },
    {
     "data": {
      "image/png": "[encoded data removed]",
      "text/plain": [
       "<Figure size 432x288 with 1 Axes>"
      ]
     },
     "metadata": {
      "needs_background": "light"
     },
     "output_type": "display_data"
    }
   ],
   "source": [
    "sns.boxplot(df_groupby.totals_hits)"
   ]
  },
  {
   "cell_type": "code",
   "execution_count": 32,
   "metadata": {},
   "outputs": [],
   "source": [
    "df_groupby = df_groupby.loc[df_groupby.totals_hits < 1600]"
   ]
  },
  {
   "cell_type": "code",
   "execution_count": 33,
   "metadata": {},
   "outputs": [
    {
     "data": {
      "text/plain": [
       "<matplotlib.axes._subplots.AxesSubplot at 0x1b3d432c90>"
      ]
     },
     "execution_count": 33,
     "metadata": {},
     "output_type": "execute_result"
    },
    {
     "data": {
      "image/png": "[encoded data removed]",
      "text/plain": [
       "<Figure size 432x288 with 1 Axes>"
      ]
     },
     "metadata": {
      "needs_background": "light"
     },
     "output_type": "display_data"
    }
   ],
   "source": [
    "sns.boxplot(df_groupby.totals_pageviews)"
   ]
  },
  {
   "cell_type": "code",
   "execution_count": 34,
   "metadata": {},
   "outputs": [],
   "source": [
    "df_groupby = df_groupby.loc[df_groupby.totals_pageviews < 1000]"
   ]
  },
  {
   "cell_type": "code",
   "execution_count": 35,
   "metadata": {},
   "outputs": [
    {
     "data": {
      "text/plain": [
       "(740911, 11)"
      ]
     },
     "execution_count": 35,
     "metadata": {},
     "output_type": "execute_result"
    }
   ],
   "source": [
    "df_groupby.shape"
   ]
  },
  {
   "cell_type": "code",
   "execution_count": null,
   "metadata": {},
   "outputs": [],
   "source": []
  },
  {
   "cell_type": "code",
   "execution_count": 36,
   "metadata": {},
   "outputs": [],
   "source": [
    "#3. Machine Learning Algorithm (K-Means)"
   ]
  },
  {
   "cell_type": "code",
   "execution_count": 37,
   "metadata": {},
   "outputs": [],
   "source": [
    "from sklearn.cluster import KMeans\n",
    "\n",
    "data = df_groupby.iloc[:, 7:]\n",
    "\n",
    "kmeans = KMeans(n_clusters=3, init=\"k-means++\")\n",
    "kmeans.fit(data)\n",
    "\n",
    "labels = kmeans.predict(data)\n",
    "labels = pd.DataFrame(data=labels, index = df_groupby.index, columns=[\"labels\"])\n"
   ]
  },
  {
   "cell_type": "code",
   "execution_count": 38,
   "metadata": {},
   "outputs": [
    {
     "data": {
      "text/html": [
       "<div>\n",
       "<style scoped>\n",
       "    .dataframe tbody tr th:only-of-type {\n",
       "        vertical-align: middle;\n",
       "    }\n",
       "\n",
       "    .dataframe tbody tr th {\n",
       "        vertical-align: top;\n",
       "    }\n",
       "\n",
       "    .dataframe thead th {\n",
       "        text-align: right;\n",
       "    }\n",
       "</style>\n",
       "<table border=\"1\" class=\"dataframe\">\n",
       "  <thead>\n",
       "    <tr style=\"text-align: right;\">\n",
       "      <th></th>\n",
       "      <th>fullVisitorId</th>\n",
       "      <th>channelGrouping</th>\n",
       "      <th>geoNetwork_country</th>\n",
       "      <th>traffic_source</th>\n",
       "      <th>device</th>\n",
       "      <th>deviceBrowser</th>\n",
       "      <th>device_operatingSystem</th>\n",
       "      <th>totals_hits</th>\n",
       "      <th>totals_pageviews</th>\n",
       "      <th>totals_bounces</th>\n",
       "      <th>totals_transactionRevenue</th>\n",
       "      <th>labels</th>\n",
       "    </tr>\n",
       "  </thead>\n",
       "  <tbody>\n",
       "    <tr>\n",
       "      <th>0</th>\n",
       "      <td>5632276788326171571</td>\n",
       "      <td>Direct</td>\n",
       "      <td>United States</td>\n",
       "      <td>Others</td>\n",
       "      <td>Desktop</td>\n",
       "      <td>Chrome</td>\n",
       "      <td>Windows</td>\n",
       "      <td>153</td>\n",
       "      <td>105</td>\n",
       "      <td>2</td>\n",
       "      <td>160240.0</td>\n",
       "      <td>1</td>\n",
       "    </tr>\n",
       "    <tr>\n",
       "      <th>1</th>\n",
       "      <td>9417857471295131045</td>\n",
       "      <td>Direct</td>\n",
       "      <td>United States</td>\n",
       "      <td>Others</td>\n",
       "      <td>Desktop</td>\n",
       "      <td>Chrome</td>\n",
       "      <td>Windows</td>\n",
       "      <td>696</td>\n",
       "      <td>466</td>\n",
       "      <td>0</td>\n",
       "      <td>151700.0</td>\n",
       "      <td>1</td>\n",
       "    </tr>\n",
       "    <tr>\n",
       "      <th>2</th>\n",
       "      <td>4471415710206918415</td>\n",
       "      <td>Referral</td>\n",
       "      <td>United States</td>\n",
       "      <td>google</td>\n",
       "      <td>Desktop</td>\n",
       "      <td>Chrome</td>\n",
       "      <td>Macintosh</td>\n",
       "      <td>238</td>\n",
       "      <td>194</td>\n",
       "      <td>6</td>\n",
       "      <td>112110.0</td>\n",
       "      <td>1</td>\n",
       "    </tr>\n",
       "    <tr>\n",
       "      <th>3</th>\n",
       "      <td>4984366501121503466</td>\n",
       "      <td>Direct</td>\n",
       "      <td>United States</td>\n",
       "      <td>Others</td>\n",
       "      <td>Desktop</td>\n",
       "      <td>Chrome</td>\n",
       "      <td>Chrome OS</td>\n",
       "      <td>724</td>\n",
       "      <td>540</td>\n",
       "      <td>4</td>\n",
       "      <td>95140.0</td>\n",
       "      <td>1</td>\n",
       "    </tr>\n",
       "    <tr>\n",
       "      <th>4</th>\n",
       "      <td>9029794295932939024</td>\n",
       "      <td>Referral</td>\n",
       "      <td>United States</td>\n",
       "      <td>google</td>\n",
       "      <td>Desktop</td>\n",
       "      <td>Chrome</td>\n",
       "      <td>Windows</td>\n",
       "      <td>782</td>\n",
       "      <td>566</td>\n",
       "      <td>3</td>\n",
       "      <td>78460.0</td>\n",
       "      <td>1</td>\n",
       "    </tr>\n",
       "  </tbody>\n",
       "</table>\n",
       "</div>"
      ],
      "text/plain": [
       "         fullVisitorId channelGrouping geoNetwork_country traffic_source  \\\n",
       "0  5632276788326171571          Direct      United States         Others   \n",
       "1  9417857471295131045          Direct      United States         Others   \n",
       "2  4471415710206918415        Referral      United States         google   \n",
       "3  4984366501121503466          Direct      United States         Others   \n",
       "4  9029794295932939024        Referral      United States         google   \n",
       "\n",
       "    device deviceBrowser device_operatingSystem  totals_hits  \\\n",
       "0  Desktop        Chrome                Windows          153   \n",
       "1  Desktop        Chrome                Windows          696   \n",
       "2  Desktop        Chrome              Macintosh          238   \n",
       "3  Desktop        Chrome              Chrome OS          724   \n",
       "4  Desktop        Chrome                Windows          782   \n",
       "\n",
       "   totals_pageviews  totals_bounces  totals_transactionRevenue  labels  \n",
       "0               105               2                   160240.0       1  \n",
       "1               466               0                   151700.0       1  \n",
       "2               194               6                   112110.0       1  \n",
       "3               540               4                    95140.0       1  \n",
       "4               566               3                    78460.0       1  "
      ]
     },
     "execution_count": 38,
     "metadata": {},
     "output_type": "execute_result"
    }
   ],
   "source": [
    "df_kmeans = pd.concat([df_groupby, labels], axis=1)\n",
    "df_kmeans = df_kmeans.reset_index(drop=True)\n",
    "df_kmeans.head()"
   ]
  },
  {
   "cell_type": "code",
   "execution_count": 39,
   "metadata": {},
   "outputs": [
    {
     "data": {
      "image/png": "[encoded data removed]",
      "text/plain": [
       "<Figure size 432x288 with 1 Axes>"
      ]
     },
     "metadata": {
      "needs_background": "light"
     },
     "output_type": "display_data"
    }
   ],
   "source": [
    "plt.scatter(df_kmeans.totals_transactionRevenue[df_kmeans.labels == 0],\n",
    "            df_kmeans.totals_pageviews[df_kmeans.labels == 0], c='blue')\n",
    "\n",
    "plt.scatter(df_kmeans.totals_transactionRevenue[df_kmeans.labels == 1],\n",
    "            df_kmeans.totals_pageviews[df_kmeans.labels == 1], c='green')\n",
    "\n",
    "plt.scatter(df_kmeans.totals_transactionRevenue[df_kmeans.labels == 2],\n",
    "            df_kmeans.totals_pageviews[df_kmeans.labels == 2], c='orange')\n",
    "\n",
    "plt.show()"
   ]
  },
  {
   "cell_type": "code",
   "execution_count": 40,
   "metadata": {},
   "outputs": [
    {
     "data": {
      "image/png": "[encoded data removed]",
      "text/plain": [
       "<Figure size 432x288 with 1 Axes>"
      ]
     },
     "metadata": {
      "needs_background": "light"
     },
     "output_type": "display_data"
    }
   ],
   "source": [
    "#Find the best number of clusters \n",
    "\n",
    "num_clusters = [x for x in range(1,10)]\n",
    "inertia = []\n",
    "\n",
    "for i in num_clusters:\n",
    "    model = KMeans(n_clusters = i, init=\"k-means++\")\n",
    "    model.fit(data)\n",
    "    inertia.append(model.inertia_)\n",
    "    \n",
    "plt.plot(num_clusters, inertia)\n",
    "plt.show()"
   ]
  },
  {
   "cell_type": "code",
   "execution_count": 41,
   "metadata": {},
   "outputs": [
    {
     "data": {
      "text/html": [
       "<div>\n",
       "<style scoped>\n",
       "    .dataframe tbody tr th:only-of-type {\n",
       "        vertical-align: middle;\n",
       "    }\n",
       "\n",
       "    .dataframe tbody tr th {\n",
       "        vertical-align: top;\n",
       "    }\n",
       "\n",
       "    .dataframe thead th {\n",
       "        text-align: right;\n",
       "    }\n",
       "</style>\n",
       "<table border=\"1\" class=\"dataframe\">\n",
       "  <thead>\n",
       "    <tr style=\"text-align: right;\">\n",
       "      <th></th>\n",
       "      <th>fullVisitorId</th>\n",
       "      <th>channelGrouping</th>\n",
       "      <th>geoNetwork_country</th>\n",
       "      <th>traffic_source</th>\n",
       "      <th>device</th>\n",
       "      <th>deviceBrowser</th>\n",
       "      <th>device_operatingSystem</th>\n",
       "      <th>totals_hits</th>\n",
       "      <th>totals_pageviews</th>\n",
       "      <th>totals_bounces</th>\n",
       "      <th>totals_transactionRevenue</th>\n",
       "      <th>labels</th>\n",
       "    </tr>\n",
       "  </thead>\n",
       "  <tbody>\n",
       "    <tr>\n",
       "      <th>0</th>\n",
       "      <td>5632276788326171571</td>\n",
       "      <td>Direct</td>\n",
       "      <td>United States</td>\n",
       "      <td>Others</td>\n",
       "      <td>Desktop</td>\n",
       "      <td>Chrome</td>\n",
       "      <td>Windows</td>\n",
       "      <td>153</td>\n",
       "      <td>105</td>\n",
       "      <td>2</td>\n",
       "      <td>160240.0</td>\n",
       "      <td>1</td>\n",
       "    </tr>\n",
       "    <tr>\n",
       "      <th>1</th>\n",
       "      <td>9417857471295131045</td>\n",
       "      <td>Direct</td>\n",
       "      <td>United States</td>\n",
       "      <td>Others</td>\n",
       "      <td>Desktop</td>\n",
       "      <td>Chrome</td>\n",
       "      <td>Windows</td>\n",
       "      <td>696</td>\n",
       "      <td>466</td>\n",
       "      <td>0</td>\n",
       "      <td>151700.0</td>\n",
       "      <td>1</td>\n",
       "    </tr>\n",
       "    <tr>\n",
       "      <th>2</th>\n",
       "      <td>4471415710206918415</td>\n",
       "      <td>Referral</td>\n",
       "      <td>United States</td>\n",
       "      <td>google</td>\n",
       "      <td>Desktop</td>\n",
       "      <td>Chrome</td>\n",
       "      <td>Macintosh</td>\n",
       "      <td>238</td>\n",
       "      <td>194</td>\n",
       "      <td>6</td>\n",
       "      <td>112110.0</td>\n",
       "      <td>1</td>\n",
       "    </tr>\n",
       "    <tr>\n",
       "      <th>3</th>\n",
       "      <td>4984366501121503466</td>\n",
       "      <td>Direct</td>\n",
       "      <td>United States</td>\n",
       "      <td>Others</td>\n",
       "      <td>Desktop</td>\n",
       "      <td>Chrome</td>\n",
       "      <td>Chrome OS</td>\n",
       "      <td>724</td>\n",
       "      <td>540</td>\n",
       "      <td>4</td>\n",
       "      <td>95140.0</td>\n",
       "      <td>1</td>\n",
       "    </tr>\n",
       "    <tr>\n",
       "      <th>4</th>\n",
       "      <td>9029794295932939024</td>\n",
       "      <td>Referral</td>\n",
       "      <td>United States</td>\n",
       "      <td>google</td>\n",
       "      <td>Desktop</td>\n",
       "      <td>Chrome</td>\n",
       "      <td>Windows</td>\n",
       "      <td>782</td>\n",
       "      <td>566</td>\n",
       "      <td>3</td>\n",
       "      <td>78460.0</td>\n",
       "      <td>1</td>\n",
       "    </tr>\n",
       "  </tbody>\n",
       "</table>\n",
       "</div>"
      ],
      "text/plain": [
       "         fullVisitorId channelGrouping geoNetwork_country traffic_source  \\\n",
       "0  5632276788326171571          Direct      United States         Others   \n",
       "1  9417857471295131045          Direct      United States         Others   \n",
       "2  4471415710206918415        Referral      United States         google   \n",
       "3  4984366501121503466          Direct      United States         Others   \n",
       "4  9029794295932939024        Referral      United States         google   \n",
       "\n",
       "    device deviceBrowser device_operatingSystem  totals_hits  \\\n",
       "0  Desktop        Chrome                Windows          153   \n",
       "1  Desktop        Chrome                Windows          696   \n",
       "2  Desktop        Chrome              Macintosh          238   \n",
       "3  Desktop        Chrome              Chrome OS          724   \n",
       "4  Desktop        Chrome                Windows          782   \n",
       "\n",
       "   totals_pageviews  totals_bounces  totals_transactionRevenue  labels  \n",
       "0               105               2                   160240.0       1  \n",
       "1               466               0                   151700.0       1  \n",
       "2               194               6                   112110.0       1  \n",
       "3               540               4                    95140.0       1  \n",
       "4               566               3                    78460.0       1  "
      ]
     },
     "execution_count": 41,
     "metadata": {},
     "output_type": "execute_result"
    }
   ],
   "source": [
    "kmeans = KMeans(n_clusters=4, init=\"k-means++\")\n",
    "kmeans.fit(data)\n",
    "\n",
    "labels_n4 = kmeans.predict(data)\n",
    "labels_n4 = pd.DataFrame(data=labels_n4, index = df_groupby.index, columns=[\"labels\"])\n",
    "\n",
    "df_kmeans_n4 = pd.concat([df_groupby, labels_n4], axis=1)\n",
    "df_kmeans_n4 = df_kmeans_n4.reset_index(drop=True)\n",
    "df_kmeans_n4.head()"
   ]
  },
  {
   "cell_type": "code",
   "execution_count": 42,
   "metadata": {},
   "outputs": [
    {
     "data": {
      "image/png": "[encoded data removed]",
      "text/plain": [
       "<Figure size 432x288 with 1 Axes>"
      ]
     },
     "metadata": {
      "needs_background": "light"
     },
     "output_type": "display_data"
    }
   ],
   "source": [
    "plt.scatter(df_kmeans_n4.totals_pageviews[df_kmeans_n4.labels == 0],\n",
    "            df_kmeans_n4.totals_transactionRevenue[df_kmeans_n4.labels == 0], c='blue')\n",
    "\n",
    "plt.scatter(df_kmeans_n4.totals_pageviews[df_kmeans_n4.labels == 1],\n",
    "            df_kmeans_n4.totals_transactionRevenue[df_kmeans_n4.labels == 1], c='green')\n",
    "\n",
    "plt.scatter(df_kmeans_n4.totals_pageviews[df_kmeans_n4.labels == 2],\n",
    "            df_kmeans_n4.totals_transactionRevenue[df_kmeans_n4.labels == 2], c='orange')\n",
    "\n",
    "plt.scatter(df_kmeans_n4.totals_pageviews[df_kmeans_n4.labels == 3],\n",
    "            df_kmeans_n4.totals_transactionRevenue[df_kmeans_n4.labels == 3], c='red')\n",
    "\n",
    "plt.xlabel(\"Page Views\")\n",
    "plt.ylabel(\"Revenue\")\n",
    "\n",
    "plt.show()\n"
   ]
  },
  {
   "cell_type": "code",
   "execution_count": 43,
   "metadata": {},
   "outputs": [],
   "source": [
    "df_group0 = df_kmeans_n4.loc[df_kmeans_n4.labels == 0] #Customer Group 0: high lands - low revenue\n",
    "df_group1 = df_kmeans_n4.loc[df_kmeans_n4.labels == 3] #Customer Group 1: medium lands - low revenue\n",
    "df_group2 = df_kmeans_n4.loc[df_kmeans_n4.labels == 1] #Customer Group 2: medium lands - medium revenue\n",
    "df_group3 = df_kmeans_n4.loc[df_kmeans_n4.labels == 2] #Customer Group 3: random lands - high revenue"
   ]
  },
  {
   "cell_type": "code",
   "execution_count": 44,
   "metadata": {},
   "outputs": [
    {
     "data": {
      "text/html": [
       "<div>\n",
       "<style scoped>\n",
       "    .dataframe tbody tr th:only-of-type {\n",
       "        vertical-align: middle;\n",
       "    }\n",
       "\n",
       "    .dataframe tbody tr th {\n",
       "        vertical-align: top;\n",
       "    }\n",
       "\n",
       "    .dataframe thead th {\n",
       "        text-align: right;\n",
       "    }\n",
       "</style>\n",
       "<table border=\"1\" class=\"dataframe\">\n",
       "  <thead>\n",
       "    <tr style=\"text-align: right;\">\n",
       "      <th></th>\n",
       "      <th>fullVisitorId</th>\n",
       "      <th>channelGrouping</th>\n",
       "      <th>geoNetwork_country</th>\n",
       "      <th>traffic_source</th>\n",
       "      <th>device</th>\n",
       "      <th>deviceBrowser</th>\n",
       "      <th>device_operatingSystem</th>\n",
       "      <th>totals_hits</th>\n",
       "      <th>totals_pageviews</th>\n",
       "      <th>totals_bounces</th>\n",
       "      <th>totals_transactionRevenue</th>\n",
       "      <th>labels</th>\n",
       "    </tr>\n",
       "  </thead>\n",
       "  <tbody>\n",
       "    <tr>\n",
       "      <th>874</th>\n",
       "      <td>1708063999877429517</td>\n",
       "      <td>Referral</td>\n",
       "      <td>United States</td>\n",
       "      <td>google</td>\n",
       "      <td>Desktop</td>\n",
       "      <td>Chrome</td>\n",
       "      <td>Macintosh</td>\n",
       "      <td>86</td>\n",
       "      <td>67</td>\n",
       "      <td>1</td>\n",
       "      <td>3220.0</td>\n",
       "      <td>0</td>\n",
       "    </tr>\n",
       "    <tr>\n",
       "      <th>875</th>\n",
       "      <td>7845967413109542320</td>\n",
       "      <td>Referral</td>\n",
       "      <td>United States</td>\n",
       "      <td>google</td>\n",
       "      <td>Desktop</td>\n",
       "      <td>Chrome</td>\n",
       "      <td>Macintosh</td>\n",
       "      <td>70</td>\n",
       "      <td>54</td>\n",
       "      <td>0</td>\n",
       "      <td>3200.0</td>\n",
       "      <td>0</td>\n",
       "    </tr>\n",
       "    <tr>\n",
       "      <th>876</th>\n",
       "      <td>2838394030048546223</td>\n",
       "      <td>Display</td>\n",
       "      <td>United States</td>\n",
       "      <td>Others</td>\n",
       "      <td>Desktop</td>\n",
       "      <td>Chrome</td>\n",
       "      <td>Macintosh</td>\n",
       "      <td>49</td>\n",
       "      <td>41</td>\n",
       "      <td>0</td>\n",
       "      <td>3200.0</td>\n",
       "      <td>0</td>\n",
       "    </tr>\n",
       "    <tr>\n",
       "      <th>877</th>\n",
       "      <td>2324401088526343469</td>\n",
       "      <td>Direct</td>\n",
       "      <td>United States</td>\n",
       "      <td>Others</td>\n",
       "      <td>Desktop</td>\n",
       "      <td>Chrome</td>\n",
       "      <td>Macintosh</td>\n",
       "      <td>43</td>\n",
       "      <td>34</td>\n",
       "      <td>0</td>\n",
       "      <td>3200.0</td>\n",
       "      <td>0</td>\n",
       "    </tr>\n",
       "    <tr>\n",
       "      <th>878</th>\n",
       "      <td>2048511066419559359</td>\n",
       "      <td>Referral</td>\n",
       "      <td>United States</td>\n",
       "      <td>google</td>\n",
       "      <td>Desktop</td>\n",
       "      <td>Chrome</td>\n",
       "      <td>Macintosh</td>\n",
       "      <td>250</td>\n",
       "      <td>173</td>\n",
       "      <td>0</td>\n",
       "      <td>3200.0</td>\n",
       "      <td>0</td>\n",
       "    </tr>\n",
       "  </tbody>\n",
       "</table>\n",
       "</div>"
      ],
      "text/plain": [
       "           fullVisitorId channelGrouping geoNetwork_country traffic_source  \\\n",
       "874  1708063999877429517        Referral      United States         google   \n",
       "875  7845967413109542320        Referral      United States         google   \n",
       "876  2838394030048546223         Display      United States         Others   \n",
       "877  2324401088526343469          Direct      United States         Others   \n",
       "878  2048511066419559359        Referral      United States         google   \n",
       "\n",
       "      device deviceBrowser device_operatingSystem  totals_hits  \\\n",
       "874  Desktop        Chrome              Macintosh           86   \n",
       "875  Desktop        Chrome              Macintosh           70   \n",
       "876  Desktop        Chrome              Macintosh           49   \n",
       "877  Desktop        Chrome              Macintosh           43   \n",
       "878  Desktop        Chrome              Macintosh          250   \n",
       "\n",
       "     totals_pageviews  totals_bounces  totals_transactionRevenue  labels  \n",
       "874                67               1                     3220.0       0  \n",
       "875                54               0                     3200.0       0  \n",
       "876                41               0                     3200.0       0  \n",
       "877                34               0                     3200.0       0  \n",
       "878               173               0                     3200.0       0  "
      ]
     },
     "execution_count": 44,
     "metadata": {},
     "output_type": "execute_result"
    }
   ],
   "source": [
    "df_group0.head()"
   ]
  },
  {
   "cell_type": "code",
   "execution_count": 45,
   "metadata": {},
   "outputs": [
    {
     "data": {
      "text/plain": [
       "Text(0.5, 1.0, 'Device Browser')"
      ]
     },
     "execution_count": 45,
     "metadata": {},
     "output_type": "execute_result"
    },
    {
     "data": {
      "image/png": "[encoded data removed]",
      "text/plain": [
       "<Figure size 1440x360 with 3 Axes>"
      ]
     },
     "metadata": {
      "needs_background": "light"
     },
     "output_type": "display_data"
    }
   ],
   "source": [
    "#Customer Group 1\n",
    "\n",
    "df_group1_channel = df_group1.groupby('channelGrouping').totals_transactionRevenue.sum().reset_index()\n",
    "df_group1_browser = df_group1.groupby('deviceBrowser').totals_transactionRevenue.sum().reset_index()\n",
    "df_group1_os = df_group1.groupby('device_operatingSystem').totals_transactionRevenue.sum().reset_index()\n",
    "\n",
    "fig, axes = plt.subplots(1,3,figsize=(20,5))\n",
    "\n",
    "sns.barplot(ax=axes[0], x=df_group1_channel.channelGrouping, y=df_group1_channel.totals_transactionRevenue)\n",
    "axes[0].set_title(\"Channel\")\n",
    "\n",
    "sns.barplot(ax=axes[1], x=df_group1_browser.deviceBrowser, y=df_group1_browser.totals_transactionRevenue)\n",
    "axes[1].set_title(\"Device Browser\")\n",
    "\n",
    "sns.barplot(ax=axes[2], x=df_group1_os.device_operatingSystem, y=df_group1_os.totals_transactionRevenue)\n",
    "axes[2].set_title(\"Device Browser\")\n"
   ]
  },
  {
   "cell_type": "code",
   "execution_count": 46,
   "metadata": {},
   "outputs": [
    {
     "data": {
      "text/plain": [
       "Text(0.5, 1.0, 'Device Browser')"
      ]
     },
     "execution_count": 46,
     "metadata": {},
     "output_type": "execute_result"
    },
    {
     "data": {
      "image/png": "[encoded data removed]",
      "text/plain": [
       "<Figure size 1440x360 with 3 Axes>"
      ]
     },
     "metadata": {
      "needs_background": "light"
     },
     "output_type": "display_data"
    }
   ],
   "source": [
    "#Customer Group 2\n",
    "\n",
    "df_group2_channel = df_group2.groupby('channelGrouping').totals_transactionRevenue.sum().reset_index()\n",
    "df_group2_browser = df_group2.groupby('deviceBrowser').totals_transactionRevenue.sum().reset_index()\n",
    "df_group2_os = df_group2.groupby('device_operatingSystem').totals_transactionRevenue.sum().reset_index()\n",
    "\n",
    "fig, axes = plt.subplots(1,3,figsize=(20,5))\n",
    "\n",
    "sns.barplot(ax=axes[0], x=df_group2_channel.channelGrouping, y=df_group2_channel.totals_transactionRevenue)\n",
    "axes[0].set_title(\"Channel\")\n",
    "\n",
    "sns.barplot(ax=axes[1], x=df_group2_browser.deviceBrowser, y=df_group2_browser.totals_transactionRevenue)\n",
    "axes[1].set_title(\"Device Browser\")\n",
    "\n",
    "sns.barplot(ax=axes[2], x=df_group2_os.device_operatingSystem, y=df_group2_os.totals_transactionRevenue)\n",
    "axes[2].set_title(\"Device Browser\")"
   ]
  },
  {
   "cell_type": "code",
   "execution_count": null,
   "metadata": {},
   "outputs": [],
   "source": []
  },
  {
   "cell_type": "code",
   "execution_count": 47,
   "metadata": {},
   "outputs": [],
   "source": [
    "#4. AB Testing "
   ]
  },
  {
   "cell_type": "code",
   "execution_count": 54,
   "metadata": {},
   "outputs": [
    {
     "data": {
      "text/plain": [
       "(776, 7)"
      ]
     },
     "execution_count": 54,
     "metadata": {},
     "output_type": "execute_result"
    }
   ],
   "source": [
    "df_group1_ab = df_group1.iloc[:, :-5]\n",
    "df_group1_ab = df_group1_ab.reset_index(drop=True)\n",
    "df_group1_ab.head()\n",
    "\n",
    "df_group1_ab.shape"
   ]
  },
  {
   "cell_type": "code",
   "execution_count": 71,
   "metadata": {},
   "outputs": [],
   "source": [
    "df_group1_ab.loc[df_group1_ab.index >= 338, 'group'] = \"control\"\n",
    "df_group1_ab.loc[df_group1_ab.index < 338, 'group'] = \"test\""
   ]
  },
  {
   "cell_type": "code",
   "execution_count": 72,
   "metadata": {},
   "outputs": [
    {
     "data": {
      "text/html": [
       "<div>\n",
       "<style scoped>\n",
       "    .dataframe tbody tr th:only-of-type {\n",
       "        vertical-align: middle;\n",
       "    }\n",
       "\n",
       "    .dataframe tbody tr th {\n",
       "        vertical-align: top;\n",
       "    }\n",
       "\n",
       "    .dataframe thead th {\n",
       "        text-align: right;\n",
       "    }\n",
       "</style>\n",
       "<table border=\"1\" class=\"dataframe\">\n",
       "  <thead>\n",
       "    <tr style=\"text-align: right;\">\n",
       "      <th></th>\n",
       "      <th>fullVisitorId</th>\n",
       "      <th>channelGrouping</th>\n",
       "      <th>geoNetwork_country</th>\n",
       "      <th>traffic_source</th>\n",
       "      <th>device</th>\n",
       "      <th>deviceBrowser</th>\n",
       "      <th>device_operatingSystem</th>\n",
       "      <th>group</th>\n",
       "      <th>revenue</th>\n",
       "    </tr>\n",
       "  </thead>\n",
       "  <tbody>\n",
       "    <tr>\n",
       "      <th>0</th>\n",
       "      <td>4474580511359381331</td>\n",
       "      <td>Organic Search</td>\n",
       "      <td>United States</td>\n",
       "      <td>google</td>\n",
       "      <td>Desktop</td>\n",
       "      <td>Chrome</td>\n",
       "      <td>Windows</td>\n",
       "      <td>test</td>\n",
       "      <td>35282</td>\n",
       "    </tr>\n",
       "    <tr>\n",
       "      <th>1</th>\n",
       "      <td>2496439703637913793</td>\n",
       "      <td>Referral</td>\n",
       "      <td>United States</td>\n",
       "      <td>google</td>\n",
       "      <td>Desktop</td>\n",
       "      <td>Chrome</td>\n",
       "      <td>Macintosh</td>\n",
       "      <td>test</td>\n",
       "      <td>443158</td>\n",
       "    </tr>\n",
       "    <tr>\n",
       "      <th>2</th>\n",
       "      <td>047096740790346861</td>\n",
       "      <td>Organic Search</td>\n",
       "      <td>United States</td>\n",
       "      <td>google</td>\n",
       "      <td>Desktop</td>\n",
       "      <td>Chrome</td>\n",
       "      <td>Windows</td>\n",
       "      <td>test</td>\n",
       "      <td>391744</td>\n",
       "    </tr>\n",
       "    <tr>\n",
       "      <th>3</th>\n",
       "      <td>3751433429956400495</td>\n",
       "      <td>Organic Search</td>\n",
       "      <td>Kenya</td>\n",
       "      <td>google</td>\n",
       "      <td>Desktop</td>\n",
       "      <td>Chrome</td>\n",
       "      <td>Windows</td>\n",
       "      <td>test</td>\n",
       "      <td>24601</td>\n",
       "    </tr>\n",
       "    <tr>\n",
       "      <th>4</th>\n",
       "      <td>3921649958751416379</td>\n",
       "      <td>Paid Search</td>\n",
       "      <td>United States</td>\n",
       "      <td>google</td>\n",
       "      <td>Desktop</td>\n",
       "      <td>Chrome</td>\n",
       "      <td>Chrome OS</td>\n",
       "      <td>test</td>\n",
       "      <td>53396</td>\n",
       "    </tr>\n",
       "  </tbody>\n",
       "</table>\n",
       "</div>"
      ],
      "text/plain": [
       "         fullVisitorId channelGrouping geoNetwork_country traffic_source  \\\n",
       "0  4474580511359381331  Organic Search      United States         google   \n",
       "1  2496439703637913793        Referral      United States         google   \n",
       "2   047096740790346861  Organic Search      United States         google   \n",
       "3  3751433429956400495  Organic Search              Kenya         google   \n",
       "4  3921649958751416379     Paid Search      United States         google   \n",
       "\n",
       "    device deviceBrowser device_operatingSystem group  revenue  \n",
       "0  Desktop        Chrome                Windows  test    35282  \n",
       "1  Desktop        Chrome              Macintosh  test   443158  \n",
       "2  Desktop        Chrome                Windows  test   391744  \n",
       "3  Desktop        Chrome                Windows  test    24601  \n",
       "4  Desktop        Chrome              Chrome OS  test    53396  "
      ]
     },
     "execution_count": 72,
     "metadata": {},
     "output_type": "execute_result"
    }
   ],
   "source": [
    "df_group1_ab.head()"
   ]
  },
  {
   "cell_type": "code",
   "execution_count": 73,
   "metadata": {},
   "outputs": [],
   "source": [
    "df_group1_ab['revenue'] = np.random.randint(10000, 500000, size=776)"
   ]
  },
  {
   "cell_type": "code",
   "execution_count": 155,
   "metadata": {
    "scrolled": true
   },
   "outputs": [
    {
     "name": "stdout",
     "output_type": "stream",
     "text": [
      "252994.34536082475\n"
     ]
    }
   ],
   "source": [
    "print(df_group1_ab.revenue.mean())"
   ]
  },
  {
   "cell_type": "code",
   "execution_count": 158,
   "metadata": {},
   "outputs": [],
   "source": [
    "control_rev = df_group1_ab.loc[df_group1_ab.group == \"control\"].revenue\n",
    "test_rev = df_group1_ab.loc[df_group1_ab.group == \"test\"].revenue"
   ]
  },
  {
   "cell_type": "code",
   "execution_count": null,
   "metadata": {},
   "outputs": [],
   "source": [
    "#4.1. Significance test (2 variables)\n",
    "\n",
    "#Step 1. Sample Sizing\n",
    "#Step 2. Pre-requisite: Normality, Correlation and Variance Tests\n",
    "#Step 3. Hypothesis Testing"
   ]
  },
  {
   "cell_type": "code",
   "execution_count": 159,
   "metadata": {
    "scrolled": true
   },
   "outputs": [
    {
     "name": "stdout",
     "output_type": "stream",
     "text": [
      "0.1945333523060415\n"
     ]
    }
   ],
   "source": [
    "#Step 1. Sample Sizing\n",
    "\n",
    "#Effect Size: (expected mean - actual mean) / actual_std\n",
    "effect_size = (280000 - df_group1_ab.revenue.mean())/df_group1_ab.revenue.std() #set expected mean to $350,000\n",
    "print(effect_size)\n",
    "\n",
    "#Power \n",
    "\n",
    "power = 0.9 #the probability of rejecting the null hypothesis\n",
    "\n",
    "#Alpha \n",
    "\n",
    "alpha = 0.05 #the error rate "
   ]
  },
  {
   "cell_type": "code",
   "execution_count": 160,
   "metadata": {
    "scrolled": true
   },
   "outputs": [
    {
     "name": "stdout",
     "output_type": "stream",
     "text": [
      "279.5843621361529\n"
     ]
    }
   ],
   "source": [
    "#Sample Size Calculation\n",
    "\n",
    "import statsmodels.stats.power as sms\n",
    "\n",
    "n = sms.TTestPower().solve_power(effect_size=effect_size, power=power, alpha=alpha)\n",
    "print(n)"
   ]
  },
  {
   "cell_type": "code",
   "execution_count": 161,
   "metadata": {},
   "outputs": [],
   "source": [
    "#Take the samples out of each group: control vs test\n",
    "\n",
    "control_sample = np.random.normal(control_rev.mean(), control_rev.std(), size=279)\n",
    "test_sample = np.random.normal(test_rev.mean(), test_rev.std(), size=279)"
   ]
  },
  {
   "cell_type": "code",
   "execution_count": 162,
   "metadata": {
    "scrolled": false
   },
   "outputs": [
    {
     "name": "stdout",
     "output_type": "stream",
     "text": [
      "0.1297304332256317 0.5397829413414001\n",
      "0.989963139892466\n"
     ]
    }
   ],
   "source": [
    "#Step 2. Pre-requisite: Normality, Correlation\n",
    "\n",
    "from scipy.stats import shapiro, pearsonr\n",
    "\n",
    "stat1, p1 = shapiro(control_sample)\n",
    "stat2, p2 = shapiro(test_sample)\n",
    "\n",
    "print(p1, p2)\n",
    "\n",
    "stat3, p3 = pearsonr(control_sample, test_sample)\n",
    "print(p3)"
   ]
  },
  {
   "cell_type": "code",
   "execution_count": 165,
   "metadata": {},
   "outputs": [
    {
     "name": "stdout",
     "output_type": "stream",
     "text": [
      "0.35276946240719687\n"
     ]
    }
   ],
   "source": [
    "#Step 3. Hypothesis Testing\n",
    "\n",
    "from scipy.stats import ttest_ind\n",
    "\n",
    "tstat, p4 = ttest_ind(control_sample, test_sample)\n",
    "print(p4)"
   ]
  },
  {
   "cell_type": "code",
   "execution_count": null,
   "metadata": {},
   "outputs": [],
   "source": [
    "#Bonus: Chi-Squared Test (correlation test)"
   ]
  },
  {
   "cell_type": "code",
   "execution_count": 175,
   "metadata": {},
   "outputs": [
    {
     "data": {
      "text/html": [
       "<div>\n",
       "<style scoped>\n",
       "    .dataframe tbody tr th:only-of-type {\n",
       "        vertical-align: middle;\n",
       "    }\n",
       "\n",
       "    .dataframe tbody tr th {\n",
       "        vertical-align: top;\n",
       "    }\n",
       "\n",
       "    .dataframe thead th {\n",
       "        text-align: right;\n",
       "    }\n",
       "</style>\n",
       "<table border=\"1\" class=\"dataframe\">\n",
       "  <thead>\n",
       "    <tr style=\"text-align: right;\">\n",
       "      <th>channelGrouping</th>\n",
       "      <th>Direct</th>\n",
       "      <th>Display</th>\n",
       "      <th>Organic Search</th>\n",
       "      <th>Paid Search</th>\n",
       "      <th>Referral</th>\n",
       "    </tr>\n",
       "    <tr>\n",
       "      <th>group</th>\n",
       "      <th></th>\n",
       "      <th></th>\n",
       "      <th></th>\n",
       "      <th></th>\n",
       "      <th></th>\n",
       "    </tr>\n",
       "  </thead>\n",
       "  <tbody>\n",
       "    <tr>\n",
       "      <th>control</th>\n",
       "      <td>25546857</td>\n",
       "      <td>1122185</td>\n",
       "      <td>28544822</td>\n",
       "      <td>5521741</td>\n",
       "      <td>50780957</td>\n",
       "    </tr>\n",
       "    <tr>\n",
       "      <th>test</th>\n",
       "      <td>24165708</td>\n",
       "      <td>1479145</td>\n",
       "      <td>17029461</td>\n",
       "      <td>2454727</td>\n",
       "      <td>39678009</td>\n",
       "    </tr>\n",
       "  </tbody>\n",
       "</table>\n",
       "</div>"
      ],
      "text/plain": [
       "channelGrouping    Direct  Display  Organic Search  Paid Search  Referral\n",
       "group                                                                    \n",
       "control          25546857  1122185        28544822      5521741  50780957\n",
       "test             24165708  1479145        17029461      2454727  39678009"
      ]
     },
     "execution_count": 175,
     "metadata": {},
     "output_type": "execute_result"
    }
   ],
   "source": [
    "df_group1_ab_rev_pivot = df_group1_ab_rev.pivot(columns='channelGrouping', index='group', values='revenue').reset_index()\n",
    "df_group1_ab_rev_pivot = df_group1_ab_rev_pivot.set_index(df_group1_ab_rev_pivot.group)\n",
    "df_group1_ab_rev_pivot = df_group1_ab_rev_pivot.drop(columns=[\"group\"])\n",
    "df_group1_ab_rev_pivot.head(10)"
   ]
  },
  {
   "cell_type": "code",
   "execution_count": 179,
   "metadata": {},
   "outputs": [
    {
     "data": {
      "text/html": [
       "<div>\n",
       "<style scoped>\n",
       "    .dataframe tbody tr th:only-of-type {\n",
       "        vertical-align: middle;\n",
       "    }\n",
       "\n",
       "    .dataframe tbody tr th {\n",
       "        vertical-align: top;\n",
       "    }\n",
       "\n",
       "    .dataframe thead th {\n",
       "        text-align: right;\n",
       "    }\n",
       "</style>\n",
       "<table border=\"1\" class=\"dataframe\">\n",
       "  <thead>\n",
       "    <tr style=\"text-align: right;\">\n",
       "      <th>group</th>\n",
       "      <th>control</th>\n",
       "      <th>test</th>\n",
       "    </tr>\n",
       "    <tr>\n",
       "      <th>channelGrouping</th>\n",
       "      <th></th>\n",
       "      <th></th>\n",
       "    </tr>\n",
       "  </thead>\n",
       "  <tbody>\n",
       "    <tr>\n",
       "      <th>Direct</th>\n",
       "      <td>25546857</td>\n",
       "      <td>24165708</td>\n",
       "    </tr>\n",
       "    <tr>\n",
       "      <th>Display</th>\n",
       "      <td>1122185</td>\n",
       "      <td>1479145</td>\n",
       "    </tr>\n",
       "    <tr>\n",
       "      <th>Organic Search</th>\n",
       "      <td>28544822</td>\n",
       "      <td>17029461</td>\n",
       "    </tr>\n",
       "    <tr>\n",
       "      <th>Paid Search</th>\n",
       "      <td>5521741</td>\n",
       "      <td>2454727</td>\n",
       "    </tr>\n",
       "    <tr>\n",
       "      <th>Referral</th>\n",
       "      <td>50780957</td>\n",
       "      <td>39678009</td>\n",
       "    </tr>\n",
       "  </tbody>\n",
       "</table>\n",
       "</div>"
      ],
      "text/plain": [
       "group             control      test\n",
       "channelGrouping                    \n",
       "Direct           25546857  24165708\n",
       "Display           1122185   1479145\n",
       "Organic Search   28544822  17029461\n",
       "Paid Search       5521741   2454727\n",
       "Referral         50780957  39678009"
      ]
     },
     "execution_count": 179,
     "metadata": {},
     "output_type": "execute_result"
    }
   ],
   "source": [
    "df_group1_ab_rev_pivot_transpose = df_group1_ab_rev_pivot.transpose()\n",
    "df_group1_ab_rev_pivot_transpose.head()"
   ]
  },
  {
   "cell_type": "code",
   "execution_count": 178,
   "metadata": {},
   "outputs": [
    {
     "name": "stdout",
     "output_type": "stream",
     "text": [
      "0.0\n"
     ]
    }
   ],
   "source": [
    "from scipy.stats import chi2_contingency\n",
    "\n",
    "stat5, p5, dof, expected = chi2_contingency(df_group1_ab_rev_pivot_transpose)\n",
    "print(p5)"
   ]
  },
  {
   "cell_type": "code",
   "execution_count": null,
   "metadata": {},
   "outputs": [],
   "source": []
  },
  {
   "cell_type": "code",
   "execution_count": null,
   "metadata": {},
   "outputs": [],
   "source": []
  }
 ],
 "metadata": {
  "kernelspec": {
   "display_name": "Python 3",
   "language": "python",
   "name": "python3"
  },
  "language_info": {
   "codemirror_mode": {
    "name": "ipython",
    "version": 3
   },
   "file_extension": ".py",
   "mimetype": "text/x-python",
   "name": "python",
   "nbconvert_exporter": "python",
   "pygments_lexer": "ipython3",
   "version": "3.7.6"
  }
 },
 "nbformat": 4,
 "nbformat_minor": 4
}
